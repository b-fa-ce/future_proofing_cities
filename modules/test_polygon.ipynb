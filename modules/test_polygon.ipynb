{
 "cells": [
  {
   "cell_type": "code",
   "execution_count": 5,
   "metadata": {},
   "outputs": [],
   "source": [
    "import numpy as np\n",
    "import matplotlib.pyplot as plt\n",
    "from polygon_intersections import PolygonClipper"
   ]
  },
  {
   "cell_type": "code",
   "execution_count": 2,
   "metadata": {},
   "outputs": [],
   "source": [
    "subject_polygon = np.array([[-1,1],[1,1],[1,-1],[-1,-1]])\n",
    "clipping_polygon = np.array([[0,0],[0,2],[2,2],[2,0]])\n",
    "\n",
    "clip = PolygonClipper(warn_if_empty = False)\n",
    "\n",
    "clipped_polygon = clip(subject_polygon,clipping_polygon)"
   ]
  },
  {
   "cell_type": "code",
   "execution_count": 3,
   "metadata": {},
   "outputs": [
    {
     "data": {
      "text/plain": [
       "array([[0., 0.],\n",
       "       [0., 1.],\n",
       "       [1., 1.],\n",
       "       [1., 0.]])"
      ]
     },
     "execution_count": 3,
     "metadata": {},
     "output_type": "execute_result"
    }
   ],
   "source": [
    "clipped_polygon"
   ]
  },
  {
   "cell_type": "code",
   "execution_count": 8,
   "metadata": {},
   "outputs": [],
   "source": [
    "def get_single_split_coords(building):\n",
    "    \"\"\"Separate lon and lat\n",
    "    \"\"\"\n",
    "    x = []\n",
    "    y = []\n",
    "    for coord in building:\n",
    "        x.append(coord[0])\n",
    "        y.append(coord[1])\n",
    "    return x, y"
   ]
  },
  {
   "cell_type": "code",
   "execution_count": 10,
   "metadata": {},
   "outputs": [
    {
     "data": {
      "text/plain": [
       "[<matplotlib.lines.Line2D at 0x7fc5e460e1d0>]"
      ]
     },
     "execution_count": 10,
     "metadata": {},
     "output_type": "execute_result"
    },
    {
     "data": {
      "image/png": "[encoded data removed]",
      "text/plain": [
       "<Figure size 640x480 with 1 Axes>"
      ]
     },
     "metadata": {},
     "output_type": "display_data"
    }
   ],
   "source": [
    "plt.plot(*get_single_split_coords(subject_polygon))\n",
    "plt.plot(*get_single_split_coords(clipping_polygon))\n",
    "plt.plot(*get_single_split_coords(clipped_polygon))"
   ]
  }
 ],
 "metadata": {
  "kernelspec": {
   "display_name": "Python 3.10.6 64-bit ('lewagon')",
   "language": "python",
   "name": "python3"
  },
  "language_info": {
   "codemirror_mode": {
    "name": "ipython",
    "version": 3
   },
   "file_extension": ".py",
   "mimetype": "text/x-python",
   "name": "python",
   "nbconvert_exporter": "python",
   "pygments_lexer": "ipython3",
   "version": "3.10.6"
  },
  "orig_nbformat": 4,
  "vscode": {
   "interpreter": {
    "hash": "9883675de1e23b98759dc3c99c16e9e6fd422f40574b7c8b7ec54b43c7e23758"
   }
  }
 },
 "nbformat": 4,
 "nbformat_minor": 2
}
