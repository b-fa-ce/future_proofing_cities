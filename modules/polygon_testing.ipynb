{
 "cells": [
  {
   "cell_type": "code",
   "execution_count": 1,
   "metadata": {},
   "outputs": [],
   "source": [
    "import numpy as np\n",
    "import matplotlib.pyplot as plt\n",
    "import mpmath as mp\n",
    "import requests\n",
    "import warnings"
   ]
  },
  {
   "cell_type": "code",
   "execution_count": 2,
   "metadata": {},
   "outputs": [],
   "source": [
    "from building_data import get_tile, osmbuildings_request, receive_building_data, polyarea, get_tile, tile_bbox\n",
    "from polygon_intersections import PolygonClipper"
   ]
  },
  {
   "cell_type": "code",
   "execution_count": 3,
   "metadata": {},
   "outputs": [],
   "source": [
    "coords = [48.813898, 2.264216]"
   ]
  },
  {
   "cell_type": "code",
   "execution_count": 4,
   "metadata": {},
   "outputs": [
    {
     "name": "stdout",
     "output_type": "stream",
     "text": [
      "URL: https://data.osmbuildings.org/0.2/anonymous/tile/15/16590/11279.json\n"
     ]
    }
   ],
   "source": [
    "paris_tile = osmbuildings_request(coords[0], coords[1])"
   ]
  },
  {
   "cell_type": "code",
   "execution_count": 32,
   "metadata": {},
   "outputs": [],
   "source": [
    "def get_tile_buildings(json):\n",
    "    buildings = []\n",
    "    for building in json['features']:\n",
    "        height = building['properties']['height']\n",
    "        coords = building['geometry']['coordinates'][0]\n",
    "        building_data = [height, coords]\n",
    "        buildings.append(building_data)\n",
    "        buildings_arr = np.array(buildings)\n",
    "    return buildings_arr"
   ]
  },
  {
   "cell_type": "code",
   "execution_count": 33,
   "metadata": {},
   "outputs": [
    {
     "name": "stderr",
     "output_type": "stream",
     "text": [
      "/tmp/ipykernel_8974/1421392227.py:8: VisibleDeprecationWarning: Creating an ndarray from ragged nested sequences (which is a list-or-tuple of lists-or-tuples-or ndarrays with different lengths or shapes) is deprecated. If you meant to do this, you must specify 'dtype=object' when creating the ndarray.\n",
      "  buildings_arr = np.array(buildings)\n"
     ]
    }
   ],
   "source": [
    "buildings_arr = get_tile_buildings(paris_tile)"
   ]
  },
  {
   "cell_type": "code",
   "execution_count": 6,
   "metadata": {},
   "outputs": [],
   "source": [
    "buildings = get_tile_buildings(paris_tile)"
   ]
  },
  {
   "cell_type": "code",
   "execution_count": 7,
   "metadata": {},
   "outputs": [
    {
     "data": {
      "text/plain": [
       "1843"
      ]
     },
     "execution_count": 7,
     "metadata": {},
     "output_type": "execute_result"
    }
   ],
   "source": [
    "len(buildings)"
   ]
  },
  {
   "cell_type": "code",
   "execution_count": 8,
   "metadata": {},
   "outputs": [
    {
     "data": {
      "text/plain": [
       "[[3,\n",
       "  [[2.264284, 48.80854],\n",
       "   [2.264271, 48.808532],\n",
       "   [2.264219, 48.808564],\n",
       "   [2.264237, 48.808584],\n",
       "   [2.264256, 48.808572],\n",
       "   [2.264245, 48.808564],\n",
       "   [2.264284, 48.80854]]],\n",
       " [9,\n",
       "  [[2.263195, 48.811304],\n",
       "   [2.263671, 48.811124],\n",
       "   [2.263559, 48.810995],\n",
       "   [2.263083, 48.811175],\n",
       "   [2.263195, 48.811304]]],\n",
       " [9,\n",
       "  [[2.263402, 48.811512],\n",
       "   [2.263622, 48.811429],\n",
       "   [2.263509, 48.8113],\n",
       "   [2.263289, 48.811383],\n",
       "   [2.263402, 48.811512]]]]"
      ]
     },
     "execution_count": 8,
     "metadata": {},
     "output_type": "execute_result"
    }
   ],
   "source": [
    "buildings[:3]"
   ]
  },
  {
   "cell_type": "code",
   "execution_count": 30,
   "metadata": {},
   "outputs": [
    {
     "data": {
      "text/plain": [
       "[[2.263195, 48.811304],\n",
       " [2.263671, 48.811124],\n",
       " [2.263559, 48.810995],\n",
       " [2.263083, 48.811175],\n",
       " [2.263195, 48.811304]]"
      ]
     },
     "execution_count": 30,
     "metadata": {},
     "output_type": "execute_result"
    }
   ],
   "source": [
    "buildings[1][1]"
   ]
  },
  {
   "cell_type": "code",
   "execution_count": 10,
   "metadata": {},
   "outputs": [],
   "source": [
    "tile = get_tile(coords[0], coords[1], zoom=15)"
   ]
  },
  {
   "cell_type": "code",
   "execution_count": 11,
   "metadata": {},
   "outputs": [],
   "source": [
    "bounds = tile_bbox(tile[0], tile[1], tile[2])"
   ]
  },
  {
   "cell_type": "code",
   "execution_count": 12,
   "metadata": {},
   "outputs": [
    {
     "data": {
      "text/plain": [
       "[2.26318359375, 48.81409852735573, 2.274169921875, 48.80686346108517]"
      ]
     },
     "execution_count": 12,
     "metadata": {},
     "output_type": "execute_result"
    }
   ],
   "source": [
    "bounds"
   ]
  },
  {
   "cell_type": "code",
   "execution_count": 9,
   "metadata": {},
   "outputs": [],
   "source": [
    "true_bounds = [[48.81409852735573, 2.26318359375], [48.81409852735573, 2.274169921875], \n",
    "               [48.80686346108517, 2.274169921875], [48.81409852735573, 2.26318359375],\n",
    "               [48.81409852735573, 2.26318359375]]"
   ]
  },
  {
   "cell_type": "code",
   "execution_count": 18,
   "metadata": {},
   "outputs": [],
   "source": [
    "example_grid_long = (bounds[2] - bounds[0])/10\n",
    "example_grid_lat = (bounds[3] - bounds[1])/10\n",
    "midpoint_long = (bounds[2] + bounds[0])/2\n",
    "midpoint_lat = (bounds[3] + bounds[1])/2\n",
    "leftlong = midpoint_long - example_grid_long\n",
    "rightlong = midpoint_long + example_grid_long\n",
    "toplat = midpoint_lat + example_grid_lat\n",
    "bottomlat = midpoint_lat - example_grid_lat\n",
    "example_pixel = [[leftlong, toplat], [rightlong, toplat],\n",
    "                 [rightlong, bottomlat], [leftlong, bottomlat], [leftlong, toplat]]"
   ]
  },
  {
   "cell_type": "code",
   "execution_count": 19,
   "metadata": {},
   "outputs": [
    {
     "data": {
      "text/plain": [
       "[[2.267578125, 48.8097574875934],\n",
       " [2.269775390625, 48.8097574875934],\n",
       " [2.269775390625, 48.81120450084751],\n",
       " [2.267578125, 48.81120450084751],\n",
       " [2.267578125, 48.8097574875934]]"
      ]
     },
     "execution_count": 19,
     "metadata": {},
     "output_type": "execute_result"
    }
   ],
   "source": [
    "example_pixel"
   ]
  },
  {
   "cell_type": "code",
   "execution_count": 22,
   "metadata": {},
   "outputs": [
    {
     "data": {
      "text/plain": [
       "-0.002197265625"
      ]
     },
     "execution_count": 22,
     "metadata": {},
     "output_type": "execute_result"
    }
   ],
   "source": [
    "lat_range = example_pixel[1][0] - example_pixel[0][0]\n",
    "lat_range"
   ]
  },
  {
   "cell_type": "code",
   "execution_count": 34,
   "metadata": {},
   "outputs": [],
   "source": [
    "def get_matching_building(buildings):\n",
    "    for building in buildings:\n",
    "        building_coords = building[1]\n",
    "        for point in building_coords:\n",
    "            if 2.267578125 < point[0] < 2.269775390625 and 48.8097574875934 < point[1] < 48.81120450084751:\n",
    "                return buildings.index(building)"
   ]
  },
  {
   "cell_type": "code",
   "execution_count": 35,
   "metadata": {},
   "outputs": [
    {
     "data": {
      "text/plain": [
       "189"
      ]
     },
     "execution_count": 35,
     "metadata": {},
     "output_type": "execute_result"
    }
   ],
   "source": [
    "get_matching_building(buildings)"
   ]
  },
  {
   "cell_type": "code",
   "execution_count": 37,
   "metadata": {},
   "outputs": [],
   "source": [
    "test_building = buildings[189][1]"
   ]
  },
  {
   "cell_type": "code",
   "execution_count": 41,
   "metadata": {},
   "outputs": [
    {
     "data": {
      "text/plain": [
       "[[2.270057, 48.809691],\n",
       " [2.270013, 48.809605],\n",
       " [2.269855, 48.809646],\n",
       " [2.269622, 48.80969],\n",
       " [2.269663, 48.809776],\n",
       " [2.270057, 48.809691]]"
      ]
     },
     "execution_count": 41,
     "metadata": {},
     "output_type": "execute_result"
    }
   ],
   "source": [
    "test_building"
   ]
  },
  {
   "cell_type": "code",
   "execution_count": 44,
   "metadata": {},
   "outputs": [],
   "source": [
    "def get_single_split_coords(building):\n",
    "    \"\"\"Separate lon and lat\n",
    "    \"\"\"\n",
    "    x = []\n",
    "    y = []\n",
    "    for coord in building:\n",
    "        x.append(coord[0])\n",
    "        y.append(coord[1])\n",
    "    return x, y"
   ]
  },
  {
   "cell_type": "code",
   "execution_count": 45,
   "metadata": {},
   "outputs": [],
   "source": [
    "x_test, y_test = get_single_split_coords(test_building)"
   ]
  },
  {
   "cell_type": "code",
   "execution_count": 53,
   "metadata": {},
   "outputs": [
    {
     "name": "stdout",
     "output_type": "stream",
     "text": [
      "[2.270057, 2.270013, 2.269855, 2.269622, 2.269663, 2.270057] [48.809691, 48.809605, 48.809646, 48.80969, 48.809776, 48.809691]\n"
     ]
    }
   ],
   "source": [
    "print(x_test, y_test)"
   ]
  },
  {
   "cell_type": "code",
   "execution_count": null,
   "metadata": {},
   "outputs": [],
   "source": [
    "x_test[:-1], "
   ]
  },
  {
   "cell_type": "code",
   "execution_count": 51,
   "metadata": {},
   "outputs": [
    {
     "data": {
      "text/plain": [
       "[<matplotlib.lines.Line2D at 0x7feba20df760>]"
      ]
     },
     "execution_count": 51,
     "metadata": {},
     "output_type": "execute_result"
    },
    {
     "data": {
      "image/png": "[encoded data removed]",
      "text/plain": [
       "<Figure size 640x480 with 1 Axes>"
      ]
     },
     "metadata": {},
     "output_type": "display_data"
    }
   ],
   "source": [
    "plt.plot(x_test, y_test, marker='o')"
   ]
  },
  {
   "cell_type": "code",
   "execution_count": 52,
   "metadata": {},
   "outputs": [
    {
     "data": {
      "image/png": "[encoded data removed]",
      "text/plain": [
       "<Figure size 640x480 with 1 Axes>"
      ]
     },
     "metadata": {},
     "output_type": "display_data"
    }
   ],
   "source": [
    "fig, ax = plt.subplots()\n",
    "ax.scatter(x_test, y_test)\n",
    "\n",
    "for i in range(len(x_test)):\n",
    "    ax.annotate(i, (x_test[i], y_test[i]))\n"
   ]
  },
  {
   "cell_type": "code",
   "execution_count": 56,
   "metadata": {},
   "outputs": [
    {
     "data": {
      "text/plain": [
       "[[2.270057, 48.809691],\n",
       " [2.270013, 48.809605],\n",
       " [2.269855, 48.809646],\n",
       " [2.269622, 48.80969],\n",
       " [2.269663, 48.809776]]"
      ]
     },
     "execution_count": 56,
     "metadata": {},
     "output_type": "execute_result"
    }
   ],
   "source": [
    "test_building[:-1]"
   ]
  },
  {
   "cell_type": "code",
   "execution_count": 57,
   "metadata": {},
   "outputs": [
    {
     "data": {
      "text/plain": [
       "[<matplotlib.lines.Line2D at 0x7feba21fd6c0>]"
      ]
     },
     "execution_count": 57,
     "metadata": {},
     "output_type": "execute_result"
    },
    {
     "data": {
      "image/png": "[encoded data removed]",
      "text/plain": [
       "<Figure size 640x480 with 1 Axes>"
      ]
     },
     "metadata": {},
     "output_type": "display_data"
    }
   ],
   "source": [
    "plt.plot(*get_single_split_coords(example_pixel))\n",
    "plt.plot(x_test, y_test)"
   ]
  },
  {
   "cell_type": "code",
   "execution_count": 54,
   "metadata": {},
   "outputs": [],
   "source": [
    "clip = PolygonClipper(warn_if_empty = True)"
   ]
  },
  {
   "cell_type": "code",
   "execution_count": 55,
   "metadata": {},
   "outputs": [
    {
     "name": "stderr",
     "output_type": "stream",
     "text": [
      "/home/matt/code/b-fa-ce/future_proofing_cities/modules/polygon_intersections.py:119: UserWarning: No intersections found. Are you sure your                           polygon coordinates are in clockwise order?\n",
      "  warnings.warn(\"No intersections found. Are you sure your \\\n"
     ]
    }
   ],
   "source": [
    "clipped = clip(test_building[:-1], example_pixel)"
   ]
  }
 ],
 "metadata": {
  "kernelspec": {
   "display_name": "Python 3.10.6 64-bit ('future_proofing_cities')",
   "language": "python",
   "name": "python3"
  },
  "language_info": {
   "codemirror_mode": {
    "name": "ipython",
    "version": 3
   },
   "file_extension": ".py",
   "mimetype": "text/x-python",
   "name": "python",
   "nbconvert_exporter": "python",
   "pygments_lexer": "ipython3",
   "version": "3.10.6"
  },
  "orig_nbformat": 4,
  "vscode": {
   "interpreter": {
    "hash": "0074166b104725c523b8868ab41b8fc8117b4c3f934723be5b4b5a4e23a08e07"
   }
  }
 },
 "nbformat": 4,
 "nbformat_minor": 2
}
