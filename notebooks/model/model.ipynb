{
 "cells": [
  {
   "cell_type": "code",
   "execution_count": 1,
   "metadata": {},
   "outputs": [
    {
     "name": "stdout",
     "output_type": "stream",
     "text": [
      "The autoreload extension is already loaded. To reload it, use:\n",
      "  %reload_ext autoreload\n"
     ]
    }
   ],
   "source": [
    "%load_ext autoreload\n",
    "%autoreload 2"
   ]
  },
  {
   "cell_type": "code",
   "execution_count": 43,
   "metadata": {},
   "outputs": [],
   "source": [
    "from modules.ml_logic.preprocessing import create_features_preprocessor, preprocess_features, preprocess_features_transform_only\n",
    "from modules.ml_logic.model import initialize_model, compile_model, train_model, evaluate_model\n",
    "from modules.ml_logic.utils import import_data_array, get_average_temperature_per_tile\n",
    "\n",
    "from modules.ml_logic.utils import get_sub_tiles\n",
    "\n",
    "from modules.data_aggregation.satellite_data import import_gdf_from_shp\n",
    "\n",
    "from sklearn.model_selection import train_test_split\n",
    "from sklearn.model_selection import cross_val_score\n",
    "\n",
    "import pandas as pd\n",
    "import numpy as np\n",
    "\n",
    "from sklearn import set_config; set_config(display='diagram')\n",
    "\n",
    "\n",
    "import matplotlib.pyplot as plt"
   ]
  },
  {
   "cell_type": "code",
   "execution_count": 4,
   "metadata": {},
   "outputs": [],
   "source": [
    "preprocessor = create_features_preprocessor()"
   ]
  },
  {
   "cell_type": "code",
   "execution_count": 29,
   "metadata": {},
   "outputs": [],
   "source": [
    "gdf_Paris_import = import_gdf_from_shp(\"Paris\")"
   ]
  },
  {
   "cell_type": "code",
   "execution_count": 160,
   "metadata": {},
   "outputs": [
    {
     "name": "stdout",
     "output_type": "stream",
     "text": [
      "\u001b[34m\n",
      "Preprocess features...\u001b[0m\n",
      "['ele_diff', 'LST', 'ele', 'LST_diff', 'ul_corner', 'll_corner', 'lr_corner', 'ur_corner', 'bb', 'geometry']\n"
     ]
    }
   ],
   "source": [
    "prep_features = preprocess_features(gdf_Paris_import)"
   ]
  },
  {
   "cell_type": "code",
   "execution_count": 161,
   "metadata": {},
   "outputs": [
    {
     "data": {
      "text/html": [
       "<div>\n",
       "<style scoped>\n",
       "    .dataframe tbody tr th:only-of-type {\n",
       "        vertical-align: middle;\n",
       "    }\n",
       "\n",
       "    .dataframe tbody tr th {\n",
       "        vertical-align: top;\n",
       "    }\n",
       "\n",
       "    .dataframe thead th {\n",
       "        text-align: right;\n",
       "    }\n",
       "</style>\n",
       "<table border=\"1\" class=\"dataframe\">\n",
       "  <thead>\n",
       "    <tr style=\"text-align: right;\">\n",
       "      <th></th>\n",
       "      <th>LST_diff</th>\n",
       "      <th>ele_diff</th>\n",
       "      <th>LST</th>\n",
       "      <th>ele</th>\n",
       "      <th>ul_corner</th>\n",
       "      <th>ll_corner</th>\n",
       "      <th>lr_corner</th>\n",
       "      <th>ur_corner</th>\n",
       "      <th>bb</th>\n",
       "      <th>geometry</th>\n",
       "    </tr>\n",
       "  </thead>\n",
       "  <tbody>\n",
       "    <tr>\n",
       "      <th>0</th>\n",
       "      <td>-2.315979</td>\n",
       "      <td>0.0</td>\n",
       "      <td>28.48999</td>\n",
       "      <td>45.577309</td>\n",
       "      <td>[[2.2633263464873545, 48.81321032181281]]</td>\n",
       "      <td>[[2.2633263464873545, 48.813839888049166]]</td>\n",
       "      <td>[[2.2639559127237074, 48.813839888049166]]</td>\n",
       "      <td>[[2.2639559127237074, 48.81321032181281]]</td>\n",
       "      <td>[[2.2633263464873545, 48.81321032181281], [2.2...</td>\n",
       "      <td>POLYGON ((2.2633263464873545 48.81321032181281...</td>\n",
       "    </tr>\n",
       "    <tr>\n",
       "      <th>1</th>\n",
       "      <td>-2.255981</td>\n",
       "      <td>0.000001</td>\n",
       "      <td>28.549988</td>\n",
       "      <td>45.577431</td>\n",
       "      <td>[[2.2639559127237074, 48.81321032181281]]</td>\n",
       "      <td>[[2.2639559127237074, 48.813839888049166]]</td>\n",
       "      <td>[[2.2645854789600603, 48.813839888049166]]</td>\n",
       "      <td>[[2.2645854789600603, 48.81321032181281]]</td>\n",
       "      <td>[[2.2639559127237074, 48.81321032181281], [2.2...</td>\n",
       "      <td>POLYGON ((2.2639559127237074 48.81321032181281...</td>\n",
       "    </tr>\n",
       "    <tr>\n",
       "      <th>2</th>\n",
       "      <td>-2.355957</td>\n",
       "      <td>0.015254</td>\n",
       "      <td>28.450012</td>\n",
       "      <td>46.94714</td>\n",
       "      <td>[[2.2645854789600603, 48.81321032181281]]</td>\n",
       "      <td>[[2.2645854789600603, 48.813839888049166]]</td>\n",
       "      <td>[[2.2652150451964133, 48.813839888049166]]</td>\n",
       "      <td>[[2.2652150451964133, 48.81321032181281]]</td>\n",
       "      <td>[[2.2645854789600603, 48.81321032181281], [2.2...</td>\n",
       "      <td>POLYGON ((2.2645854789600603 48.81321032181281...</td>\n",
       "    </tr>\n",
       "    <tr>\n",
       "      <th>3</th>\n",
       "      <td>-1.575958</td>\n",
       "      <td>0.031562</td>\n",
       "      <td>29.230011</td>\n",
       "      <td>48.411678</td>\n",
       "      <td>[[2.2652150451964133, 48.81321032181281]]</td>\n",
       "      <td>[[2.2652150451964133, 48.813839888049166]]</td>\n",
       "      <td>[[2.265844611432766, 48.813839888049166]]</td>\n",
       "      <td>[[2.265844611432766, 48.81321032181281]]</td>\n",
       "      <td>[[2.2652150451964133, 48.81321032181281], [2.2...</td>\n",
       "      <td>POLYGON ((2.2652150451964133 48.81321032181281...</td>\n",
       "    </tr>\n",
       "    <tr>\n",
       "      <th>4</th>\n",
       "      <td>-2.915985</td>\n",
       "      <td>0.034144</td>\n",
       "      <td>27.889984</td>\n",
       "      <td>48.643574</td>\n",
       "      <td>[[2.265844611432766, 48.81321032181281]]</td>\n",
       "      <td>[[2.265844611432766, 48.813839888049166]]</td>\n",
       "      <td>[[2.266474177669119, 48.813839888049166]]</td>\n",
       "      <td>[[2.266474177669119, 48.81321032181281]]</td>\n",
       "      <td>[[2.265844611432766, 48.81321032181281], [2.26...</td>\n",
       "      <td>POLYGON ((2.265844611432766 48.81321032181281,...</td>\n",
       "    </tr>\n",
       "    <tr>\n",
       "      <th>...</th>\n",
       "      <td>...</td>\n",
       "      <td>...</td>\n",
       "      <td>...</td>\n",
       "      <td>...</td>\n",
       "      <td>...</td>\n",
       "      <td>...</td>\n",
       "      <td>...</td>\n",
       "      <td>...</td>\n",
       "      <td>...</td>\n",
       "      <td>...</td>\n",
       "    </tr>\n",
       "    <tr>\n",
       "      <th>35023</th>\n",
       "      <td>3.344025</td>\n",
       "      <td>0.245255</td>\n",
       "      <td>34.149994</td>\n",
       "      <td>67.602211</td>\n",
       "      <td>[[2.4188292068665307, 48.90009046242952]]</td>\n",
       "      <td>[[2.4188292068665307, 48.90072002866587]]</td>\n",
       "      <td>[[2.4194587731028836, 48.90072002866587]]</td>\n",
       "      <td>[[2.4194587731028836, 48.90009046242952]]</td>\n",
       "      <td>[[2.4188292068665307, 48.90009046242952], [2.4...</td>\n",
       "      <td>POLYGON ((2.4188292068665307 48.90009046242952...</td>\n",
       "    </tr>\n",
       "    <tr>\n",
       "      <th>35024</th>\n",
       "      <td>2.944031</td>\n",
       "      <td>0.25617</td>\n",
       "      <td>33.75</td>\n",
       "      <td>68.582405</td>\n",
       "      <td>[[2.4194587731028836, 48.90009046242952]]</td>\n",
       "      <td>[[2.4194587731028836, 48.90072002866587]]</td>\n",
       "      <td>[[2.4200883393392365, 48.90072002866587]]</td>\n",
       "      <td>[[2.4200883393392365, 48.90009046242952]]</td>\n",
       "      <td>[[2.4194587731028836, 48.90009046242952], [2.4...</td>\n",
       "      <td>POLYGON ((2.4194587731028836 48.90009046242952...</td>\n",
       "    </tr>\n",
       "    <tr>\n",
       "      <th>35025</th>\n",
       "      <td>2.944031</td>\n",
       "      <td>0.25617</td>\n",
       "      <td>33.75</td>\n",
       "      <td>68.582405</td>\n",
       "      <td>[[2.4200883393392365, 48.90009046242952]]</td>\n",
       "      <td>[[2.4200883393392365, 48.90072002866587]]</td>\n",
       "      <td>[[2.4207179055755894, 48.90072002866587]]</td>\n",
       "      <td>[[2.4207179055755894, 48.90009046242952]]</td>\n",
       "      <td>[[2.4200883393392365, 48.90009046242952], [2.4...</td>\n",
       "      <td>POLYGON ((2.4200883393392365 48.90009046242952...</td>\n",
       "    </tr>\n",
       "    <tr>\n",
       "      <th>35026</th>\n",
       "      <td>1.884033</td>\n",
       "      <td>0.280597</td>\n",
       "      <td>32.690002</td>\n",
       "      <td>70.776123</td>\n",
       "      <td>[[2.4207179055755894, 48.90009046242952]]</td>\n",
       "      <td>[[2.4207179055755894, 48.90072002866587]]</td>\n",
       "      <td>[[2.4213474718119423, 48.90072002866587]]</td>\n",
       "      <td>[[2.4213474718119423, 48.90009046242952]]</td>\n",
       "      <td>[[2.4207179055755894, 48.90009046242952], [2.4...</td>\n",
       "      <td>POLYGON ((2.4207179055755894 48.90009046242952...</td>\n",
       "    </tr>\n",
       "    <tr>\n",
       "      <th>35027</th>\n",
       "      <td>1.884033</td>\n",
       "      <td>0.280597</td>\n",
       "      <td>32.690002</td>\n",
       "      <td>70.776123</td>\n",
       "      <td>[[2.4213474718119423, 48.90009046242952]]</td>\n",
       "      <td>[[2.4213474718119423, 48.90072002866587]]</td>\n",
       "      <td>[[2.4219770380482952, 48.90072002866587]]</td>\n",
       "      <td>[[2.4219770380482952, 48.90009046242952]]</td>\n",
       "      <td>[[2.4213474718119423, 48.90009046242952], [2.4...</td>\n",
       "      <td>POLYGON ((2.4213474718119423 48.90009046242952...</td>\n",
       "    </tr>\n",
       "  </tbody>\n",
       "</table>\n",
       "<p>35028 rows × 10 columns</p>\n",
       "</div>"
      ],
      "text/plain": [
       "       LST_diff  ele_diff        LST        ele  \\\n",
       "0     -2.315979       0.0   28.48999  45.577309   \n",
       "1     -2.255981  0.000001  28.549988  45.577431   \n",
       "2     -2.355957  0.015254  28.450012   46.94714   \n",
       "3     -1.575958  0.031562  29.230011  48.411678   \n",
       "4     -2.915985  0.034144  27.889984  48.643574   \n",
       "...         ...       ...        ...        ...   \n",
       "35023  3.344025  0.245255  34.149994  67.602211   \n",
       "35024  2.944031   0.25617      33.75  68.582405   \n",
       "35025  2.944031   0.25617      33.75  68.582405   \n",
       "35026  1.884033  0.280597  32.690002  70.776123   \n",
       "35027  1.884033  0.280597  32.690002  70.776123   \n",
       "\n",
       "                                       ul_corner  \\\n",
       "0      [[2.2633263464873545, 48.81321032181281]]   \n",
       "1      [[2.2639559127237074, 48.81321032181281]]   \n",
       "2      [[2.2645854789600603, 48.81321032181281]]   \n",
       "3      [[2.2652150451964133, 48.81321032181281]]   \n",
       "4       [[2.265844611432766, 48.81321032181281]]   \n",
       "...                                          ...   \n",
       "35023  [[2.4188292068665307, 48.90009046242952]]   \n",
       "35024  [[2.4194587731028836, 48.90009046242952]]   \n",
       "35025  [[2.4200883393392365, 48.90009046242952]]   \n",
       "35026  [[2.4207179055755894, 48.90009046242952]]   \n",
       "35027  [[2.4213474718119423, 48.90009046242952]]   \n",
       "\n",
       "                                        ll_corner  \\\n",
       "0      [[2.2633263464873545, 48.813839888049166]]   \n",
       "1      [[2.2639559127237074, 48.813839888049166]]   \n",
       "2      [[2.2645854789600603, 48.813839888049166]]   \n",
       "3      [[2.2652150451964133, 48.813839888049166]]   \n",
       "4       [[2.265844611432766, 48.813839888049166]]   \n",
       "...                                           ...   \n",
       "35023   [[2.4188292068665307, 48.90072002866587]]   \n",
       "35024   [[2.4194587731028836, 48.90072002866587]]   \n",
       "35025   [[2.4200883393392365, 48.90072002866587]]   \n",
       "35026   [[2.4207179055755894, 48.90072002866587]]   \n",
       "35027   [[2.4213474718119423, 48.90072002866587]]   \n",
       "\n",
       "                                        lr_corner  \\\n",
       "0      [[2.2639559127237074, 48.813839888049166]]   \n",
       "1      [[2.2645854789600603, 48.813839888049166]]   \n",
       "2      [[2.2652150451964133, 48.813839888049166]]   \n",
       "3       [[2.265844611432766, 48.813839888049166]]   \n",
       "4       [[2.266474177669119, 48.813839888049166]]   \n",
       "...                                           ...   \n",
       "35023   [[2.4194587731028836, 48.90072002866587]]   \n",
       "35024   [[2.4200883393392365, 48.90072002866587]]   \n",
       "35025   [[2.4207179055755894, 48.90072002866587]]   \n",
       "35026   [[2.4213474718119423, 48.90072002866587]]   \n",
       "35027   [[2.4219770380482952, 48.90072002866587]]   \n",
       "\n",
       "                                       ur_corner  \\\n",
       "0      [[2.2639559127237074, 48.81321032181281]]   \n",
       "1      [[2.2645854789600603, 48.81321032181281]]   \n",
       "2      [[2.2652150451964133, 48.81321032181281]]   \n",
       "3       [[2.265844611432766, 48.81321032181281]]   \n",
       "4       [[2.266474177669119, 48.81321032181281]]   \n",
       "...                                          ...   \n",
       "35023  [[2.4194587731028836, 48.90009046242952]]   \n",
       "35024  [[2.4200883393392365, 48.90009046242952]]   \n",
       "35025  [[2.4207179055755894, 48.90009046242952]]   \n",
       "35026  [[2.4213474718119423, 48.90009046242952]]   \n",
       "35027  [[2.4219770380482952, 48.90009046242952]]   \n",
       "\n",
       "                                                      bb  \\\n",
       "0      [[2.2633263464873545, 48.81321032181281], [2.2...   \n",
       "1      [[2.2639559127237074, 48.81321032181281], [2.2...   \n",
       "2      [[2.2645854789600603, 48.81321032181281], [2.2...   \n",
       "3      [[2.2652150451964133, 48.81321032181281], [2.2...   \n",
       "4      [[2.265844611432766, 48.81321032181281], [2.26...   \n",
       "...                                                  ...   \n",
       "35023  [[2.4188292068665307, 48.90009046242952], [2.4...   \n",
       "35024  [[2.4194587731028836, 48.90009046242952], [2.4...   \n",
       "35025  [[2.4200883393392365, 48.90009046242952], [2.4...   \n",
       "35026  [[2.4207179055755894, 48.90009046242952], [2.4...   \n",
       "35027  [[2.4213474718119423, 48.90009046242952], [2.4...   \n",
       "\n",
       "                                                geometry  \n",
       "0      POLYGON ((2.2633263464873545 48.81321032181281...  \n",
       "1      POLYGON ((2.2639559127237074 48.81321032181281...  \n",
       "2      POLYGON ((2.2645854789600603 48.81321032181281...  \n",
       "3      POLYGON ((2.2652150451964133 48.81321032181281...  \n",
       "4      POLYGON ((2.265844611432766 48.81321032181281,...  \n",
       "...                                                  ...  \n",
       "35023  POLYGON ((2.4188292068665307 48.90009046242952...  \n",
       "35024  POLYGON ((2.4194587731028836 48.90009046242952...  \n",
       "35025  POLYGON ((2.4200883393392365 48.90009046242952...  \n",
       "35026  POLYGON ((2.4207179055755894 48.90009046242952...  \n",
       "35027  POLYGON ((2.4213474718119423 48.90009046242952...  \n",
       "\n",
       "[35028 rows x 10 columns]"
      ]
     },
     "execution_count": 161,
     "metadata": {},
     "output_type": "execute_result"
    }
   ],
   "source": [
    "prep_features"
   ]
  },
  {
   "cell_type": "code",
   "execution_count": 175,
   "metadata": {},
   "outputs": [
    {
     "data": {
      "text/plain": [
       "(144, 15, 15)"
      ]
     },
     "execution_count": 175,
     "metadata": {},
     "output_type": "execute_result"
    }
   ],
   "source": [
    "data_array = get_sub_tiles(prep_features, 15, 15)[0]\n",
    "# export it and bb here\n",
    "\n",
    "ele_diff = data_array[:,:,:,1].astype('float64')\n",
    "ele_diff.shape"
   ]
  },
  {
   "cell_type": "code",
   "execution_count": 99,
   "metadata": {},
   "outputs": [
    {
     "data": {
      "text/plain": [
       "(28, 32, 32)"
      ]
     },
     "execution_count": 99,
     "metadata": {},
     "output_type": "execute_result"
    }
   ],
   "source": [
    "# # # if we want to import it\n",
    "# data_array = import_data_array(\"Paris\")\n",
    "# # ele_diff = data_array[:,:,:,1]\n",
    "# ele_diff.shape"
   ]
  },
  {
   "cell_type": "code",
   "execution_count": 176,
   "metadata": {},
   "outputs": [],
   "source": [
    "X = ele_diff\n",
    "X = X.reshape(*X.shape,1)\n",
    "y = get_average_temperature_per_tile(data_array)\n",
    "\n",
    "# split into train, test\n",
    "X_train, X_test, y_train, y_test = train_test_split(X,y, test_size=.3)"
   ]
  },
  {
   "cell_type": "code",
   "execution_count": 177,
   "metadata": {},
   "outputs": [
    {
     "data": {
      "text/plain": [
       "((100, 15, 15, 1), (100,))"
      ]
     },
     "execution_count": 177,
     "metadata": {},
     "output_type": "execute_result"
    }
   ],
   "source": [
    "X_train.shape, y_train.shape"
   ]
  },
  {
   "cell_type": "code",
   "execution_count": 178,
   "metadata": {},
   "outputs": [
    {
     "name": "stdout",
     "output_type": "stream",
     "text": [
      "\n",
      "✅ model initialised\n"
     ]
    }
   ],
   "source": [
    "model = initialize_model(X_train.shape[1:])"
   ]
  },
  {
   "cell_type": "code",
   "execution_count": 179,
   "metadata": {},
   "outputs": [
    {
     "name": "stdout",
     "output_type": "stream",
     "text": [
      "Model: \"sequential_12\"\n",
      "_________________________________________________________________\n",
      " Layer (type)                Output Shape              Param #   \n",
      "=================================================================\n",
      " conv2d_36 (Conv2D)          (None, 15, 15, 8)         80        \n",
      "                                                                 \n",
      " max_pooling2d_26 (MaxPoolin  (None, 7, 7, 8)          0         \n",
      " g2D)                                                            \n",
      "                                                                 \n",
      " conv2d_37 (Conv2D)          (None, 5, 5, 16)          1168      \n",
      "                                                                 \n",
      " conv2d_38 (Conv2D)          (None, 4, 4, 32)          2080      \n",
      "                                                                 \n",
      " max_pooling2d_27 (MaxPoolin  (None, 2, 2, 32)         0         \n",
      " g2D)                                                            \n",
      "                                                                 \n",
      " flatten_9 (Flatten)         (None, 128)               0         \n",
      "                                                                 \n",
      " dense_18 (Dense)            (None, 10)                1290      \n",
      "                                                                 \n",
      " dense_19 (Dense)            (None, 1)                 11        \n",
      "                                                                 \n",
      "=================================================================\n",
      "Total params: 4,629\n",
      "Trainable params: 4,629\n",
      "Non-trainable params: 0\n",
      "_________________________________________________________________\n"
     ]
    }
   ],
   "source": [
    "model.summary()"
   ]
  },
  {
   "cell_type": "code",
   "execution_count": 180,
   "metadata": {},
   "outputs": [
    {
     "name": "stdout",
     "output_type": "stream",
     "text": [
      "\n",
      "✅ model compiled\n"
     ]
    },
    {
     "data": {
      "text/plain": [
       "<keras.engine.sequential.Sequential at 0x176cb3850>"
      ]
     },
     "execution_count": 180,
     "metadata": {},
     "output_type": "execute_result"
    }
   ],
   "source": [
    "compile_model(model)"
   ]
  },
  {
   "cell_type": "code",
   "execution_count": 181,
   "metadata": {},
   "outputs": [
    {
     "data": {
      "text/plain": [
       "(dtype('float32'), dtype('float64'), dtype('float64'))"
      ]
     },
     "execution_count": 181,
     "metadata": {},
     "output_type": "execute_result"
    }
   ],
   "source": [
    "X_train.astype('float32').dtype, y_train.dtype, X_train.dtype"
   ]
  },
  {
   "cell_type": "code",
   "execution_count": 182,
   "metadata": {},
   "outputs": [
    {
     "name": "stdout",
     "output_type": "stream",
     "text": [
      "\u001b[34m\n",
      "Train model...\u001b[0m\n",
      "\n",
      "✅ model trained (100 rows)\n"
     ]
    }
   ],
   "source": [
    "model, history = train_model(model, X_train, y_train, patience = 20)"
   ]
  },
  {
   "cell_type": "code",
   "execution_count": 187,
   "metadata": {},
   "outputs": [
    {
     "data": {
      "text/plain": [
       "[<matplotlib.lines.Line2D at 0x174f81a80>]"
      ]
     },
     "execution_count": 187,
     "metadata": {},
     "output_type": "execute_result"
    },
    {
     "data": {
      "image/png": "[encoded data removed]",
      "text/plain": [
       "<Figure size 640x480 with 1 Axes>"
      ]
     },
     "metadata": {},
     "output_type": "display_data"
    }
   ],
   "source": [
    "plt.plot(history.history['loss'])\n",
    "plt.plot(history.history['mae'])\n",
    "\n",
    "plt.plot(history.history['val_loss'])\n",
    "plt.plot(history.history['val_mae'])"
   ]
  },
  {
   "cell_type": "code",
   "execution_count": 184,
   "metadata": {},
   "outputs": [
    {
     "name": "stdout",
     "output_type": "stream",
     "text": [
      "\u001b[34m\n",
      "Evaluate model on 44 rows...\u001b[0m\n",
      "1/1 [==============================] - 0s 23ms/step - loss: 9.0925 - mae: 2.5056\n",
      "\n",
      "✅ model evaluated: loss 9.09, mae 2.51, baseline mae: 9.163741357660221\n"
     ]
    },
    {
     "data": {
      "text/plain": [
       "{'loss': 9.09249496459961, 'mae': 2.5056416988372803}"
      ]
     },
     "execution_count": 184,
     "metadata": {},
     "output_type": "execute_result"
    }
   ],
   "source": [
    "evaluate_model(model, X_test, y_test)"
   ]
  },
  {
   "cell_type": "code",
   "execution_count": 185,
   "metadata": {},
   "outputs": [
    {
     "name": "stdout",
     "output_type": "stream",
     "text": [
      "2/2 [==============================] - 0s 2ms/step\n"
     ]
    },
    {
     "data": {
      "text/plain": [
       "array([[-0.25596076],\n",
       "       [-0.26979026],\n",
       "       [-0.29134673],\n",
       "       [-0.2593639 ],\n",
       "       [-0.2526122 ],\n",
       "       [-0.2539973 ],\n",
       "       [-0.30915123],\n",
       "       [-0.26625457],\n",
       "       [-0.25969577],\n",
       "       [-0.3144591 ],\n",
       "       [-0.25609112],\n",
       "       [-0.30703685],\n",
       "       [-0.25089267],\n",
       "       [-0.28558007],\n",
       "       [-0.30906332],\n",
       "       [-0.29493722],\n",
       "       [-0.25264797],\n",
       "       [-0.29119703],\n",
       "       [-0.2764925 ],\n",
       "       [-0.33924904],\n",
       "       [-0.2672507 ],\n",
       "       [-0.25686377],\n",
       "       [-0.29054117],\n",
       "       [-0.29004607],\n",
       "       [-0.28320992],\n",
       "       [-0.29185542],\n",
       "       [-0.26060098],\n",
       "       [-0.25772947],\n",
       "       [-0.32138732],\n",
       "       [-0.26426706],\n",
       "       [-0.25409958],\n",
       "       [-0.24724957],\n",
       "       [-0.29472622],\n",
       "       [-0.26012248],\n",
       "       [-0.28281075],\n",
       "       [-0.29106253],\n",
       "       [-0.25432244],\n",
       "       [-0.25177625],\n",
       "       [-0.27480257],\n",
       "       [-0.25251916],\n",
       "       [-0.25477365],\n",
       "       [-0.32914996],\n",
       "       [-0.28437835],\n",
       "       [-0.2647622 ]], dtype=float32)"
      ]
     },
     "execution_count": 185,
     "metadata": {},
     "output_type": "execute_result"
    }
   ],
   "source": [
    "model.predict(X_test)"
   ]
  },
  {
   "cell_type": "code",
   "execution_count": 186,
   "metadata": {},
   "outputs": [
    {
     "data": {
      "text/plain": [
       "array([ 1.1166512 ,  3.07140801, -4.36654582,  0.56180691, -0.22654839,\n",
       "        1.61905206,  4.03798462, -5.03197021,  3.37620714,  1.25682902,\n",
       "        3.46038615, -5.75383721, -3.23952501, -0.34912584,  2.15558553,\n",
       "       -2.94921427, -4.72050307, -1.35117133,  2.70056247,  0.03247314,\n",
       "        5.88260552,  1.41567261,  2.40411906,  0.10127319,  1.74625027,\n",
       "       -5.06708008,  0.72660672,  0.42651883, -2.09117052,  1.48954115,\n",
       "       -5.37027954,  0.43949585, -2.51623711,  1.27096232,  5.19469577,\n",
       "       -2.31206068, -3.81979275, -5.35765788,  0.26074205,  0.76047336,\n",
       "        1.20358548,  1.30785251, -1.0709927 , -4.40868205])"
      ]
     },
     "execution_count": 186,
     "metadata": {},
     "output_type": "execute_result"
    }
   ],
   "source": [
    "y_test"
   ]
  }
 ],
 "metadata": {
  "kernelspec": {
   "display_name": "lewagon",
   "language": "python",
   "name": "python3"
  },
  "language_info": {
   "codemirror_mode": {
    "name": "ipython",
    "version": 3
   },
   "file_extension": ".py",
   "mimetype": "text/x-python",
   "name": "python",
   "nbconvert_exporter": "python",
   "pygments_lexer": "ipython3",
   "version": "3.10.6 (main, Oct 14 2022, 13:03:08) [GCC 11.2.0]"
  },
  "orig_nbformat": 4,
  "vscode": {
   "interpreter": {
    "hash": "9883675de1e23b98759dc3c99c16e9e6fd422f40574b7c8b7ec54b43c7e23758"
   }
  }
 },
 "nbformat": 4,
 "nbformat_minor": 2
}
