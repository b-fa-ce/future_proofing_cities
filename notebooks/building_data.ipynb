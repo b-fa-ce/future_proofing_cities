{
 "cells": [
  {
   "cell_type": "markdown",
   "metadata": {},
   "source": [
    "# Acquiring and analysing building data"
   ]
  },
  {
   "cell_type": "markdown",
   "metadata": {},
   "source": [
    "## Imports"
   ]
  },
  {
   "cell_type": "code",
   "execution_count": 27,
   "metadata": {},
   "outputs": [],
   "source": [
    "import numpy as np\n",
    "import matplotlib.pyplot as plt\n",
    "import pandas as pd\n",
    "import mpmath as mp\n",
    "import requests\n",
    "import random"
   ]
  },
  {
   "cell_type": "code",
   "execution_count": 19,
   "metadata": {},
   "outputs": [
    {
     "name": "stderr",
     "output_type": "stream",
     "text": [
      "UsageError: Line magic function `%load-ext` not found.\n"
     ]
    }
   ],
   "source": [
    "%load-ext autoreload\n",
    "%autreload 2"
   ]
  },
  {
   "cell_type": "markdown",
   "metadata": {},
   "source": [
    "## Accessing the data"
   ]
  },
  {
   "cell_type": "markdown",
   "metadata": {},
   "source": [
    "### Functions for converting to and from lon/lat to XYZ tile format"
   ]
  },
  {
   "cell_type": "code",
   "execution_count": 142,
   "metadata": {},
   "outputs": [],
   "source": [
    "def get_tile(lat_deg, lon_deg, zoom=15):\n",
    "    \"\"\"\n",
    "    A function to get the relevant tile from lat,lon,zoom)\n",
    "    \"\"\"   \n",
    "    lat_rad = mp.radians(lat_deg)\n",
    "    n = 2 ** zoom\n",
    "   \n",
    "    xtile = n * ((lon_deg + 180) / 360)\n",
    "    ytile = float(n * (1 - (mp.log(mp.tan(lat_rad) + mp.sec(lat_rad)) / np.pi)) / 2)\n",
    "    return zoom, round(xtile), round(ytile) # 'tile %d/%d/%d '%"
   ]
  },
  {
   "cell_type": "code",
   "execution_count": 3,
   "metadata": {},
   "outputs": [],
   "source": [
    "def tile2lon(z,x,y):\n",
    "    return x / 2**z * 360 - 180\n",
    "\n",
    "def tile2lat(z,x,y):\n",
    "    n = mp.pi - 2 * mp.pi * y / 2**z;\n",
    "    return float((180 / mp.pi) * (mp.atan(0.5 * (mp.exp(n) - mp.exp(-n)))))\n",
    "\n",
    "def tile_bbox(z,x,y):\n",
    "    '''\n",
    "    Returns the lat, lon bounding box of a tile\n",
    "    '''\n",
    "    w = tile2lon(z,x,y)\n",
    "    s = tile2lat(z,x,y) \n",
    "    e = tile2lon(z,x+1,y)\n",
    "    n = tile2lat(z,x,y+1)\n",
    "    return [w,s,e,n]"
   ]
  },
  {
   "cell_type": "markdown",
   "metadata": {},
   "source": [
    "## Function for calling the api"
   ]
  },
  {
   "cell_type": "code",
   "execution_count": 36,
   "metadata": {},
   "outputs": [],
   "source": [
    "def osmbuildings_request(latitude:float, longitude:float):\n",
    "    \"\"\"\n",
    "    returns json response with building data from OSMBuildings\n",
    "    API for a specific latitude and longitude\n",
    "    \"\"\"\n",
    "    \n",
    "    base_url = \"https://data.osmbuildings.org/0.2/anonymous/tile\"\n",
    "    zoom, xtile, ytile = get_tile(latitude, longitude, 15)\n",
    "    \n",
    "    url = f\"{base_url}/{zoom}/{xtile}/{ytile}.json\"\n",
    "    print(f\"URL: {url}\")\n",
    "    headers = {'User-Agent': 'Mozilla/5.0 (Windows NT 10.0; rv:91.0) Gecko/20100101 Firefox/91.0'}\n",
    "    response = requests.get(url, headers = headers)\n",
    " \n",
    "    print(f\"Status code: {response.status_code}\")\n",
    "    json_response = response.json()\n",
    "\n",
    "    return json_response"
   ]
  },
  {
   "cell_type": "markdown",
   "metadata": {},
   "source": [
    "### Coordinates of cities"
   ]
  },
  {
   "cell_type": "code",
   "execution_count": 111,
   "metadata": {},
   "outputs": [],
   "source": [
    "paris_coords = {'upper_left': [48.813898, 2.264216],\n",
    "                'lower_right': [48.900502, 2.42172]}\n",
    "\n",
    "berlin_coords = {'upper_left': [52.475607, 13.313794],\n",
    "                 'lower_right': [52.55571, 13.471299]}\n",
    "\n",
    "london_coords = {'upper_left': [51.469149, -0.216408],\n",
    "                 'lower_right': [51.551072, -0.058904]}\n",
    "\n",
    "brussels_coords = {'upper_left': [50.808751, 4.288857],\n",
    "                   'lower_right': [50.891855, 4.446361]}\n",
    "\n",
    "city_bounds = {'paris': paris_coords,\n",
    "               'berlin': berlin_coords,\n",
    "               'london': london_coords,\n",
    "               'brussels': brussels_coords}\n",
    "cities = ['paris', 'berlin', 'london', 'brussels']"
   ]
  },
  {
   "cell_type": "markdown",
   "metadata": {},
   "source": [
    "## Number of XYZ tiles for each"
   ]
  },
  {
   "cell_type": "code",
   "execution_count": 98,
   "metadata": {},
   "outputs": [],
   "source": [
    "def get_tiles(city_coords):\n",
    "    ul_tile = get_tile(lat_deg=city_coords['upper_left'][0], lon_deg=city_coords['upper_left'][1], zoom=15)\n",
    "    lr_tile = get_tile(lat_deg=city_coords['lower_right'][0], lon_deg=city_coords['lower_right'][1], zoom=15)\n",
    "    city_xtiles = np.abs(ul_tile[1] - lr_tile[1])\n",
    "    city_ytiles = np.abs(ul_tile[2] - lr_tile[2])\n",
    "    city_tiles = [city_xtiles, city_ytiles]\n",
    "    return city_tiles"
   ]
  },
  {
   "cell_type": "code",
   "execution_count": 107,
   "metadata": {},
   "outputs": [
    {
     "name": "stdout",
     "output_type": "stream",
     "text": [
      "The tiles covering Paris are a grid of: [14, 12].\n",
      "The tiles covering Berlin are a grid of: [14, 12].\n",
      "The tiles covering London are a grid of: [15, 12].\n",
      "The tiles covering Brussels are a grid of: [15, 12].\n"
     ]
    }
   ],
   "source": [
    "tiles = {}\n",
    "tiles['paris'] = get_tiles(paris_coords)\n",
    "tiles['berlin'] = get_tiles(berlin_coords)\n",
    "tiles['london'] = get_tiles(london_coords)\n",
    "tiles['brussels'] = get_tiles(brussels_coords)\n",
    "for city, tile_counts in tiles.items():\n",
    "    message = f\"The tiles covering {city.title()} are a grid of: {tile_counts}.\"\n",
    "    print(message)"
   ]
  },
  {
   "cell_type": "markdown",
   "metadata": {},
   "source": [
    "## Getting multiple tiles and checking materials documentation for each city"
   ]
  },
  {
   "cell_type": "code",
   "execution_count": 103,
   "metadata": {},
   "outputs": [],
   "source": [
    "def get_multiple_jsons(city_coords):\n",
    "    jsons = []\n",
    "    for i in range(10):\n",
    "        random_lat = round(random.uniform(city_coords['upper_left'][0], city_coords['lower_right'][0]), 5)\n",
    "        random_long = round(random.uniform(city_coords['upper_left'][1], city_coords['lower_right'][1]), 5)\n",
    "        json_response = osmbuildings_request(random_lat, random_long)\n",
    "        jsons.append(json_response)\n",
    "    return jsons"
   ]
  },
  {
   "cell_type": "code",
   "execution_count": 104,
   "metadata": {},
   "outputs": [],
   "source": [
    "def get_materials(city_jsons):\n",
    "    materials = []\n",
    "    total_features = 0\n",
    "    for json_tile in city_jsons:\n",
    "        total_features += len(json_tile['features'])\n",
    "        for n in range(len(json_tile['features'])):\n",
    "            if json_tile['features'][n]['properties'].get('material') != None:\n",
    "                materials.append(json_tile['features'][n]['properties'].get('material'))\n",
    "                proportion = len(materials)/len(json_tile['features'])\n",
    "    proportion = len(materials)/total_features\n",
    "    return proportion"
   ]
  },
  {
   "cell_type": "code",
   "execution_count": 105,
   "metadata": {},
   "outputs": [
    {
     "name": "stdout",
     "output_type": "stream",
     "text": [
      "URL: https://data.osmbuildings.org/0.2/anonymous/tile/15/16602/11270.json\n",
      "Status code: 200\n",
      "URL: https://data.osmbuildings.org/0.2/anonymous/tile/15/16594/11273.json\n",
      "Status code: 200\n",
      "URL: https://data.osmbuildings.org/0.2/anonymous/tile/15/16597/11277.json\n",
      "Status code: 200\n",
      "URL: https://data.osmbuildings.org/0.2/anonymous/tile/15/16603/11278.json\n",
      "Status code: 200\n",
      "URL: https://data.osmbuildings.org/0.2/anonymous/tile/15/16590/11277.json\n",
      "Status code: 200\n",
      "URL: https://data.osmbuildings.org/0.2/anonymous/tile/15/16599/11270.json\n",
      "Status code: 200\n",
      "URL: https://data.osmbuildings.org/0.2/anonymous/tile/15/16594/11272.json\n",
      "Status code: 200\n",
      "URL: https://data.osmbuildings.org/0.2/anonymous/tile/15/16596/11269.json\n",
      "Status code: 200\n",
      "URL: https://data.osmbuildings.org/0.2/anonymous/tile/15/16596/11271.json\n",
      "Status code: 200\n",
      "URL: https://data.osmbuildings.org/0.2/anonymous/tile/15/16599/11275.json\n",
      "Status code: 200\n",
      "URL: https://data.osmbuildings.org/0.2/anonymous/tile/15/17602/10741.json\n",
      "Status code: 200\n",
      "URL: https://data.osmbuildings.org/0.2/anonymous/tile/15/17609/10750.json\n",
      "Status code: 200\n",
      "URL: https://data.osmbuildings.org/0.2/anonymous/tile/15/17607/10752.json\n",
      "Status code: 200\n",
      "URL: https://data.osmbuildings.org/0.2/anonymous/tile/15/17609/10745.json\n",
      "Status code: 200\n",
      "URL: https://data.osmbuildings.org/0.2/anonymous/tile/15/17598/10751.json\n",
      "Status code: 200\n",
      "URL: https://data.osmbuildings.org/0.2/anonymous/tile/15/17596/10746.json\n",
      "Status code: 200\n",
      "URL: https://data.osmbuildings.org/0.2/anonymous/tile/15/17598/10746.json\n",
      "Status code: 200\n",
      "URL: https://data.osmbuildings.org/0.2/anonymous/tile/15/17601/10749.json\n",
      "Status code: 200\n",
      "URL: https://data.osmbuildings.org/0.2/anonymous/tile/15/17609/10743.json\n",
      "Status code: 200\n",
      "URL: https://data.osmbuildings.org/0.2/anonymous/tile/15/17605/10745.json\n",
      "Status code: 200\n",
      "URL: https://data.osmbuildings.org/0.2/anonymous/tile/15/16369/10899.json\n",
      "Status code: 200\n",
      "URL: https://data.osmbuildings.org/0.2/anonymous/tile/15/16368/10897.json\n",
      "Status code: 200\n",
      "URL: https://data.osmbuildings.org/0.2/anonymous/tile/15/16378/10896.json\n",
      "Status code: 200\n",
      "URL: https://data.osmbuildings.org/0.2/anonymous/tile/15/16370/10897.json\n",
      "Status code: 200\n",
      "URL: https://data.osmbuildings.org/0.2/anonymous/tile/15/16376/10898.json\n",
      "Status code: 200\n",
      "URL: https://data.osmbuildings.org/0.2/anonymous/tile/15/16377/10899.json\n",
      "Status code: 200\n",
      "URL: https://data.osmbuildings.org/0.2/anonymous/tile/15/16374/10892.json\n",
      "Status code: 200\n",
      "URL: https://data.osmbuildings.org/0.2/anonymous/tile/15/16366/10896.json\n",
      "Status code: 200\n",
      "URL: https://data.osmbuildings.org/0.2/anonymous/tile/15/16368/10894.json\n",
      "Status code: 200\n",
      "URL: https://data.osmbuildings.org/0.2/anonymous/tile/15/16376/10896.json\n",
      "Status code: 200\n",
      "URL: https://data.osmbuildings.org/0.2/anonymous/tile/15/16777/10994.json\n",
      "Status code: 200\n",
      "URL: https://data.osmbuildings.org/0.2/anonymous/tile/15/16785/10993.json\n",
      "Status code: 200\n",
      "URL: https://data.osmbuildings.org/0.2/anonymous/tile/15/16776/10993.json\n",
      "Status code: 200\n",
      "URL: https://data.osmbuildings.org/0.2/anonymous/tile/15/16781/10991.json\n",
      "Status code: 200\n",
      "URL: https://data.osmbuildings.org/0.2/anonymous/tile/15/16776/10986.json\n",
      "Status code: 200\n",
      "URL: https://data.osmbuildings.org/0.2/anonymous/tile/15/16786/10992.json\n",
      "Status code: 200\n",
      "URL: https://data.osmbuildings.org/0.2/anonymous/tile/15/16782/10992.json\n",
      "Status code: 200\n",
      "URL: https://data.osmbuildings.org/0.2/anonymous/tile/15/16777/10996.json\n",
      "Status code: 200\n",
      "URL: https://data.osmbuildings.org/0.2/anonymous/tile/15/16778/10986.json\n",
      "Status code: 200\n",
      "URL: https://data.osmbuildings.org/0.2/anonymous/tile/15/16775/10991.json\n",
      "Status code: 200\n"
     ]
    }
   ],
   "source": [
    "ouput_strings =[]\n",
    "for city in cities:\n",
    "    city_coords = city_bounds[cities.index(city)]\n",
    "    city_jsons = get_multiple_jsons(city_coords)\n",
    "    mat_prop = get_materials(city_jsons)\n",
    "    ouput_strings.append(f\"Proportion of materials in {city}: {mat_prop}\")"
   ]
  },
  {
   "cell_type": "code",
   "execution_count": 106,
   "metadata": {},
   "outputs": [
    {
     "name": "stdout",
     "output_type": "stream",
     "text": [
      "Proportion of materials in paris: 0.009349198640116562\n",
      "Proportion of materials in berlin: 0.03436619718309859\n",
      "Proportion of materials in london: 0.04201421068890948\n",
      "Proportion of materials in brussels: 0.0008201950241501869\n"
     ]
    }
   ],
   "source": [
    "print(*ouput_strings, sep='\\n')"
   ]
  },
  {
   "cell_type": "markdown",
   "metadata": {},
   "source": [
    "### The level of documentation for building material is probably too low for any city (highest 0.05%)"
   ]
  },
  {
   "cell_type": "markdown",
   "metadata": {},
   "source": [
    "## Getting all tiles covering a city, and the respective json files"
   ]
  },
  {
   "cell_type": "code",
   "execution_count": 166,
   "metadata": {},
   "outputs": [],
   "source": [
    "def get_all_tiles(city):\n",
    "    starting_tile = []\n",
    "    city_coords = city_bounds[city]\n",
    "    city_tile_grid = tiles[city]\n",
    "    starting_tile.append(get_tile(city_coords['upper_left'][0], city_coords['upper_left'][1])[1])\n",
    "    starting_tile.append(get_tile(city_coords['upper_left'][0], city_coords['upper_left'][1])[2])\n",
    "    x_tiles = []\n",
    "    y_tiles = []\n",
    "    for x in range(city_tile_grid[0]-1):\n",
    "        x_tiles.append(starting_tile[0] + x)\n",
    "    for y in range(city_tile_grid[1]-1):\n",
    "        y_tiles.append(starting_tile[1] + y)\n",
    "    return x_tiles, y_tiles"
   ]
  },
  {
   "cell_type": "code",
   "execution_count": 159,
   "metadata": {},
   "outputs": [],
   "source": [
    "def get_all_tile_jsons(x_tiles, y_tiles, zoom=15):\n",
    "    city_jsons = {}\n",
    "    for x in x_tiles:\n",
    "        for y in y_tiles:\n",
    "            tile_lat = tile2lat(zoom, x, y)\n",
    "            tile_lon = tile2lon(zoom, x, y)\n",
    "            tile = (x, y)\n",
    "            json_response = osmbuildings_request(tile_lat, tile_lon)\n",
    "            city_jsons[tile] = json_response\n",
    "    return city_jsons"
   ]
  },
  {
   "cell_type": "code",
   "execution_count": 174,
   "metadata": {},
   "outputs": [],
   "source": [
    "paris_x_tiles, paris_y_tiles = get_all_tiles('paris')\n",
    "paris_jsons = get_all_tile_jsons(paris_x_tiles, paris_y_tiles)"
   ]
  },
  {
   "cell_type": "code",
   "execution_count": 175,
   "metadata": {},
   "outputs": [],
   "source": [
    "berlin_x_tiles, berlin_y_tiles = get_all_tiles('berlin')\n",
    "berlin_jsons = get_all_tile_jsons(berlin_x_tiles, berlin_y_tiles)"
   ]
  },
  {
   "cell_type": "code",
   "execution_count": null,
   "metadata": {},
   "outputs": [],
   "source": [
    "london_x_tiles, london_y_tiles = get_all_tiles('london')\n",
    "london_jsons = get_all_tile_jsons(london_x_tiles, london_y_tiles)"
   ]
  },
  {
   "cell_type": "markdown",
   "metadata": {},
   "source": [
    "### Brussels returns an error due to some xyz tiles being empty (either reduce size or change function to include 'try'?)"
   ]
  },
  {
   "cell_type": "code",
   "execution_count": null,
   "metadata": {},
   "outputs": [],
   "source": [
    "# brussels_x_tiles, brussels_y_tiles = get_all_tiles('brussels')\n",
    "# brussels_jsons = get_all_tile_jsons(brussels_x_tiles, brussels_y_tiles)"
   ]
  }
 ],
 "metadata": {
  "kernelspec": {
   "display_name": "Python 3.10.6 64-bit ('future_proofing_cities')",
   "language": "python",
   "name": "python3"
  },
  "language_info": {
   "codemirror_mode": {
    "name": "ipython",
    "version": 3
   },
   "file_extension": ".py",
   "mimetype": "text/x-python",
   "name": "python",
   "nbconvert_exporter": "python",
   "pygments_lexer": "ipython3",
   "version": "3.10.6"
  },
  "orig_nbformat": 4,
  "vscode": {
   "interpreter": {
    "hash": "0074166b104725c523b8868ab41b8fc8117b4c3f934723be5b4b5a4e23a08e07"
   }
  }
 },
 "nbformat": 4,
 "nbformat_minor": 2
}
