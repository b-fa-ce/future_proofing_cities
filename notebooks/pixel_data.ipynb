{
 "cells": [
  {
   "cell_type": "code",
   "execution_count": 1,
   "metadata": {},
   "outputs": [],
   "source": [
    "from modules.building_data import get_tile, osmbuildings_request, receive_building_data, polyarea, get_tile, tile_bbox"
   ]
  },
  {
   "cell_type": "code",
   "execution_count": 2,
   "metadata": {},
   "outputs": [],
   "source": [
    "from modules.building_data import get_all_tiles, get_all_tile_jsons, get_tiles, get_split_coords"
   ]
  },
  {
   "cell_type": "code",
   "execution_count": 3,
   "metadata": {},
   "outputs": [],
   "source": [
    "%load_ext autoreload\n",
    "%autoreload 2"
   ]
  },
  {
   "cell_type": "code",
   "execution_count": 4,
   "metadata": {},
   "outputs": [],
   "source": [
    "import numpy as np\n",
    "import matplotlib.pyplot as plt\n",
    "import mpmath as mp\n",
    "import requests\n",
    "import pandas as pd\n",
    "import warnings\n",
    "from shapely.geometry import Polygon\n",
    "from modules.polygon_intersections import PolygonClipper\n",
    "from ast import literal_eval"
   ]
  },
  {
   "cell_type": "code",
   "execution_count": 5,
   "metadata": {},
   "outputs": [],
   "source": [
    "paris_df = pd.read_csv(\"../data/processed_data/Paris/Paris.csv\")"
   ]
  },
  {
   "cell_type": "code",
   "execution_count": 6,
   "metadata": {},
   "outputs": [
    {
     "data": {
      "text/html": [
       "<div>\n",
       "<style scoped>\n",
       "    .dataframe tbody tr th:only-of-type {\n",
       "        vertical-align: middle;\n",
       "    }\n",
       "\n",
       "    .dataframe tbody tr th {\n",
       "        vertical-align: top;\n",
       "    }\n",
       "\n",
       "    .dataframe thead th {\n",
       "        text-align: right;\n",
       "    }\n",
       "</style>\n",
       "<table border=\"1\" class=\"dataframe\">\n",
       "  <thead>\n",
       "    <tr style=\"text-align: right;\">\n",
       "      <th></th>\n",
       "      <th>LST</th>\n",
       "      <th>ele</th>\n",
       "      <th>LST_diff</th>\n",
       "      <th>ele_diff</th>\n",
       "      <th>ul_corner</th>\n",
       "      <th>ll_corner</th>\n",
       "      <th>lr_corner</th>\n",
       "      <th>ur_corner</th>\n",
       "      <th>bb</th>\n",
       "    </tr>\n",
       "  </thead>\n",
       "  <tbody>\n",
       "    <tr>\n",
       "      <th>0</th>\n",
       "      <td>28.489990</td>\n",
       "      <td>45.577310</td>\n",
       "      <td>-2.315979</td>\n",
       "      <td>-28.184334</td>\n",
       "      <td>[[2.2633263464873545, 48.81321032181281]]</td>\n",
       "      <td>[[2.2633263464873545, 48.813839888049166]]</td>\n",
       "      <td>[[2.2639559127237074, 48.813839888049166]]</td>\n",
       "      <td>[[2.2639559127237074, 48.81321032181281]]</td>\n",
       "      <td>[[2.2633263464873545, 48.81321032181281], [2.2...</td>\n",
       "    </tr>\n",
       "    <tr>\n",
       "      <th>1</th>\n",
       "      <td>28.549988</td>\n",
       "      <td>45.577430</td>\n",
       "      <td>-2.255981</td>\n",
       "      <td>-28.184212</td>\n",
       "      <td>[[2.2639559127237074, 48.81321032181281]]</td>\n",
       "      <td>[[2.2639559127237074, 48.813839888049166]]</td>\n",
       "      <td>[[2.2645854789600603, 48.813839888049166]]</td>\n",
       "      <td>[[2.2645854789600603, 48.81321032181281]]</td>\n",
       "      <td>[[2.2639559127237074, 48.81321032181281], [2.2...</td>\n",
       "    </tr>\n",
       "    <tr>\n",
       "      <th>2</th>\n",
       "      <td>28.450012</td>\n",
       "      <td>46.947140</td>\n",
       "      <td>-2.355957</td>\n",
       "      <td>-26.814503</td>\n",
       "      <td>[[2.2645854789600603, 48.81321032181281]]</td>\n",
       "      <td>[[2.2645854789600603, 48.813839888049166]]</td>\n",
       "      <td>[[2.2652150451964133, 48.813839888049166]]</td>\n",
       "      <td>[[2.2652150451964133, 48.81321032181281]]</td>\n",
       "      <td>[[2.2645854789600603, 48.81321032181281], [2.2...</td>\n",
       "    </tr>\n",
       "    <tr>\n",
       "      <th>3</th>\n",
       "      <td>29.230011</td>\n",
       "      <td>48.411680</td>\n",
       "      <td>-1.575958</td>\n",
       "      <td>-25.349964</td>\n",
       "      <td>[[2.2652150451964133, 48.81321032181281]]</td>\n",
       "      <td>[[2.2652150451964133, 48.813839888049166]]</td>\n",
       "      <td>[[2.265844611432766, 48.813839888049166]]</td>\n",
       "      <td>[[2.265844611432766, 48.81321032181281]]</td>\n",
       "      <td>[[2.2652150451964133, 48.81321032181281], [2.2...</td>\n",
       "    </tr>\n",
       "    <tr>\n",
       "      <th>4</th>\n",
       "      <td>27.889984</td>\n",
       "      <td>48.643574</td>\n",
       "      <td>-2.915985</td>\n",
       "      <td>-25.118069</td>\n",
       "      <td>[[2.265844611432766, 48.81321032181281]]</td>\n",
       "      <td>[[2.265844611432766, 48.813839888049166]]</td>\n",
       "      <td>[[2.266474177669119, 48.813839888049166]]</td>\n",
       "      <td>[[2.266474177669119, 48.81321032181281]]</td>\n",
       "      <td>[[2.265844611432766, 48.81321032181281], [2.26...</td>\n",
       "    </tr>\n",
       "  </tbody>\n",
       "</table>\n",
       "</div>"
      ],
      "text/plain": [
       "         LST        ele  LST_diff   ele_diff  \\\n",
       "0  28.489990  45.577310 -2.315979 -28.184334   \n",
       "1  28.549988  45.577430 -2.255981 -28.184212   \n",
       "2  28.450012  46.947140 -2.355957 -26.814503   \n",
       "3  29.230011  48.411680 -1.575958 -25.349964   \n",
       "4  27.889984  48.643574 -2.915985 -25.118069   \n",
       "\n",
       "                                   ul_corner  \\\n",
       "0  [[2.2633263464873545, 48.81321032181281]]   \n",
       "1  [[2.2639559127237074, 48.81321032181281]]   \n",
       "2  [[2.2645854789600603, 48.81321032181281]]   \n",
       "3  [[2.2652150451964133, 48.81321032181281]]   \n",
       "4   [[2.265844611432766, 48.81321032181281]]   \n",
       "\n",
       "                                    ll_corner  \\\n",
       "0  [[2.2633263464873545, 48.813839888049166]]   \n",
       "1  [[2.2639559127237074, 48.813839888049166]]   \n",
       "2  [[2.2645854789600603, 48.813839888049166]]   \n",
       "3  [[2.2652150451964133, 48.813839888049166]]   \n",
       "4   [[2.265844611432766, 48.813839888049166]]   \n",
       "\n",
       "                                    lr_corner  \\\n",
       "0  [[2.2639559127237074, 48.813839888049166]]   \n",
       "1  [[2.2645854789600603, 48.813839888049166]]   \n",
       "2  [[2.2652150451964133, 48.813839888049166]]   \n",
       "3   [[2.265844611432766, 48.813839888049166]]   \n",
       "4   [[2.266474177669119, 48.813839888049166]]   \n",
       "\n",
       "                                   ur_corner  \\\n",
       "0  [[2.2639559127237074, 48.81321032181281]]   \n",
       "1  [[2.2645854789600603, 48.81321032181281]]   \n",
       "2  [[2.2652150451964133, 48.81321032181281]]   \n",
       "3   [[2.265844611432766, 48.81321032181281]]   \n",
       "4   [[2.266474177669119, 48.81321032181281]]   \n",
       "\n",
       "                                                  bb  \n",
       "0  [[2.2633263464873545, 48.81321032181281], [2.2...  \n",
       "1  [[2.2639559127237074, 48.81321032181281], [2.2...  \n",
       "2  [[2.2645854789600603, 48.81321032181281], [2.2...  \n",
       "3  [[2.2652150451964133, 48.81321032181281], [2.2...  \n",
       "4  [[2.265844611432766, 48.81321032181281], [2.26...  "
      ]
     },
     "execution_count": 6,
     "metadata": {},
     "output_type": "execute_result"
    }
   ],
   "source": [
    "paris_df.head()"
   ]
  },
  {
   "cell_type": "code",
   "execution_count": 8,
   "metadata": {},
   "outputs": [
    {
     "name": "stdout",
     "output_type": "stream",
     "text": [
      "<class 'pandas.core.frame.DataFrame'>\n",
      "RangeIndex: 35028 entries, 0 to 35027\n",
      "Data columns (total 9 columns):\n",
      " #   Column     Non-Null Count  Dtype  \n",
      "---  ------     --------------  -----  \n",
      " 0   LST        35028 non-null  float64\n",
      " 1   ele        35028 non-null  float64\n",
      " 2   LST_diff   35028 non-null  float64\n",
      " 3   ele_diff   35028 non-null  float64\n",
      " 4   ul_corner  35028 non-null  object \n",
      " 5   ll_corner  35028 non-null  object \n",
      " 6   lr_corner  35028 non-null  object \n",
      " 7   ur_corner  35028 non-null  object \n",
      " 8   bb         35028 non-null  object \n",
      "dtypes: float64(4), object(5)\n",
      "memory usage: 2.4+ MB\n"
     ]
    }
   ],
   "source": [
    "paris_df.info()"
   ]
  },
  {
   "cell_type": "code",
   "execution_count": 9,
   "metadata": {},
   "outputs": [],
   "source": [
    "paris_df['test'] = paris_df['bb'].copy()"
   ]
  },
  {
   "cell_type": "code",
   "execution_count": 10,
   "metadata": {},
   "outputs": [],
   "source": [
    "paris_df['test'] = paris_df.test.apply(literal_eval)"
   ]
  },
  {
   "cell_type": "code",
   "execution_count": 11,
   "metadata": {},
   "outputs": [
    {
     "data": {
      "text/plain": [
       "list"
      ]
     },
     "execution_count": 11,
     "metadata": {},
     "output_type": "execute_result"
    }
   ],
   "source": [
    "type(paris_df.test[0])"
   ]
  },
  {
   "cell_type": "code",
   "execution_count": null,
   "metadata": {},
   "outputs": [],
   "source": [
    "# paris_df.bb.apply(lambda x: x.)"
   ]
  },
  {
   "cell_type": "code",
   "execution_count": null,
   "metadata": {},
   "outputs": [],
   "source": [
    "# paris_df['test'] = paris_df['test'].replace('[]', '')"
   ]
  },
  {
   "cell_type": "code",
   "execution_count": null,
   "metadata": {},
   "outputs": [],
   "source": [
    "# paris_df.bb.apply(lambda x: x.)"
   ]
  },
  {
   "cell_type": "code",
   "execution_count": 12,
   "metadata": {},
   "outputs": [],
   "source": [
    "clip = PolygonClipper(warn_if_empty=False)"
   ]
  },
  {
   "cell_type": "code",
   "execution_count": 13,
   "metadata": {},
   "outputs": [],
   "source": [
    "def get_building_clipped_area(building_coords, clip, pixel):\n",
    "    clipped = clip(pixel, building_coords)\n",
    "    pgon = Polygon(clipped)\n",
    "    return pgon.area"
   ]
  },
  {
   "cell_type": "code",
   "execution_count": 15,
   "metadata": {},
   "outputs": [],
   "source": [
    "def is_building_inside(building_coords, pixel):\n",
    "    inside=True\n",
    "    for coord in building_coords:\n",
    "        if pixel[0][0] < coord[0] < pixel[2][0] and pixel[0][1] < coord[1] < pixel[1][1]:\n",
    "            pass\n",
    "        else:\n",
    "            inside = False\n",
    "    return inside"
   ]
  },
  {
   "cell_type": "code",
   "execution_count": 16,
   "metadata": {},
   "outputs": [],
   "source": [
    "def get_building_coverage(buildings, clip, pixel):\n",
    "    separate_areas = []\n",
    "    for building in buildings:\n",
    "        building_coords = building[1]\n",
    "        try:\n",
    "            separate_areas.append(get_building_clipped_area(building, clip, pixel))\n",
    "        except:\n",
    "            if is_building_inside(building_coords, pixel):\n",
    "                pgon = Polygon(building_coords)\n",
    "                separate_areas.append(pgon.area)\n",
    "    built_area = np.sum(separate_areas)\n",
    "    pixel_returning = pixel.copy()\n",
    "    pixel_returning.append(pixel[0])\n",
    "    pixel_poly = Polygon(pixel_returning)\n",
    "    pixel_area = pixel_poly.area\n",
    "    prop_area_built = built_area/pixel_area\n",
    "    return prop_area_built"
   ]
  },
  {
   "cell_type": "code",
   "execution_count": 17,
   "metadata": {},
   "outputs": [],
   "source": [
    "paris_coords = {'upper_left': [48.813898, 2.264216],\n",
    "                'lower_right': [48.900502, 2.42172]}"
   ]
  },
  {
   "cell_type": "code",
   "execution_count": 18,
   "metadata": {},
   "outputs": [
    {
     "name": "stdout",
     "output_type": "stream",
     "text": [
      "URL: https://data.osmbuildings.org/0.2/anonymous/tile/15/16590/11279.json\n",
      "URL: https://data.osmbuildings.org/0.2/anonymous/tile/15/16590/11280.json\n",
      "URL: https://data.osmbuildings.org/0.2/anonymous/tile/15/16590/11281.json\n",
      "URL: https://data.osmbuildings.org/0.2/anonymous/tile/15/16590/11282.json\n",
      "URL: https://data.osmbuildings.org/0.2/anonymous/tile/15/16590/11283.json\n",
      "URL: https://data.osmbuildings.org/0.2/anonymous/tile/15/16590/11284.json\n",
      "URL: https://data.osmbuildings.org/0.2/anonymous/tile/15/16590/11285.json\n",
      "URL: https://data.osmbuildings.org/0.2/anonymous/tile/15/16590/11286.json\n",
      "URL: https://data.osmbuildings.org/0.2/anonymous/tile/15/16590/11287.json\n",
      "URL: https://data.osmbuildings.org/0.2/anonymous/tile/15/16590/11288.json\n",
      "URL: https://data.osmbuildings.org/0.2/anonymous/tile/15/16590/11289.json\n",
      "URL: https://data.osmbuildings.org/0.2/anonymous/tile/15/16591/11279.json\n",
      "URL: https://data.osmbuildings.org/0.2/anonymous/tile/15/16591/11280.json\n",
      "URL: https://data.osmbuildings.org/0.2/anonymous/tile/15/16591/11281.json\n",
      "URL: https://data.osmbuildings.org/0.2/anonymous/tile/15/16591/11282.json\n",
      "URL: https://data.osmbuildings.org/0.2/anonymous/tile/15/16591/11283.json\n",
      "URL: https://data.osmbuildings.org/0.2/anonymous/tile/15/16591/11284.json\n",
      "URL: https://data.osmbuildings.org/0.2/anonymous/tile/15/16591/11285.json\n",
      "URL: https://data.osmbuildings.org/0.2/anonymous/tile/15/16591/11286.json\n",
      "URL: https://data.osmbuildings.org/0.2/anonymous/tile/15/16591/11287.json\n",
      "URL: https://data.osmbuildings.org/0.2/anonymous/tile/15/16591/11288.json\n",
      "URL: https://data.osmbuildings.org/0.2/anonymous/tile/15/16591/11289.json\n",
      "URL: https://data.osmbuildings.org/0.2/anonymous/tile/15/16592/11279.json\n",
      "URL: https://data.osmbuildings.org/0.2/anonymous/tile/15/16592/11280.json\n",
      "URL: https://data.osmbuildings.org/0.2/anonymous/tile/15/16592/11281.json\n",
      "URL: https://data.osmbuildings.org/0.2/anonymous/tile/15/16592/11282.json\n",
      "URL: https://data.osmbuildings.org/0.2/anonymous/tile/15/16592/11283.json\n",
      "URL: https://data.osmbuildings.org/0.2/anonymous/tile/15/16592/11284.json\n",
      "URL: https://data.osmbuildings.org/0.2/anonymous/tile/15/16592/11285.json\n",
      "URL: https://data.osmbuildings.org/0.2/anonymous/tile/15/16592/11286.json\n",
      "URL: https://data.osmbuildings.org/0.2/anonymous/tile/15/16592/11287.json\n",
      "URL: https://data.osmbuildings.org/0.2/anonymous/tile/15/16592/11288.json\n",
      "URL: https://data.osmbuildings.org/0.2/anonymous/tile/15/16592/11289.json\n",
      "URL: https://data.osmbuildings.org/0.2/anonymous/tile/15/16593/11279.json\n",
      "URL: https://data.osmbuildings.org/0.2/anonymous/tile/15/16593/11280.json\n",
      "URL: https://data.osmbuildings.org/0.2/anonymous/tile/15/16593/11281.json\n",
      "URL: https://data.osmbuildings.org/0.2/anonymous/tile/15/16593/11282.json\n",
      "URL: https://data.osmbuildings.org/0.2/anonymous/tile/15/16593/11283.json\n",
      "URL: https://data.osmbuildings.org/0.2/anonymous/tile/15/16593/11284.json\n",
      "URL: https://data.osmbuildings.org/0.2/anonymous/tile/15/16593/11285.json\n",
      "URL: https://data.osmbuildings.org/0.2/anonymous/tile/15/16593/11286.json\n",
      "URL: https://data.osmbuildings.org/0.2/anonymous/tile/15/16593/11287.json\n",
      "URL: https://data.osmbuildings.org/0.2/anonymous/tile/15/16593/11288.json\n",
      "URL: https://data.osmbuildings.org/0.2/anonymous/tile/15/16593/11289.json\n",
      "URL: https://data.osmbuildings.org/0.2/anonymous/tile/15/16594/11279.json\n",
      "URL: https://data.osmbuildings.org/0.2/anonymous/tile/15/16594/11280.json\n",
      "URL: https://data.osmbuildings.org/0.2/anonymous/tile/15/16594/11281.json\n",
      "URL: https://data.osmbuildings.org/0.2/anonymous/tile/15/16594/11282.json\n",
      "URL: https://data.osmbuildings.org/0.2/anonymous/tile/15/16594/11283.json\n",
      "URL: https://data.osmbuildings.org/0.2/anonymous/tile/15/16594/11284.json\n",
      "URL: https://data.osmbuildings.org/0.2/anonymous/tile/15/16594/11285.json\n"
     ]
    },
    {
     "ename": "ConnectionError",
     "evalue": "HTTPSConnectionPool(host='data.osmbuildings.org', port=443): Max retries exceeded with url: /0.2/anonymous/tile/15/16594/11285.json (Caused by NewConnectionError('<urllib3.connection.HTTPSConnection object at 0x7f23c549b9a0>: Failed to establish a new connection: [Errno -3] Temporary failure in name resolution'))",
     "output_type": "error",
     "traceback": [
      "\u001b[0;31m---------------------------------------------------------------------------\u001b[0m",
      "\u001b[0;31mgaierror\u001b[0m                                  Traceback (most recent call last)",
      "File \u001b[0;32m~/.pyenv/versions/3.10.6/envs/future_proofing_cities/lib/python3.10/site-packages/urllib3/connection.py:174\u001b[0m, in \u001b[0;36mHTTPConnection._new_conn\u001b[0;34m(self)\u001b[0m\n\u001b[1;32m    173\u001b[0m \u001b[39mtry\u001b[39;00m:\n\u001b[0;32m--> 174\u001b[0m     conn \u001b[39m=\u001b[39m connection\u001b[39m.\u001b[39;49mcreate_connection(\n\u001b[1;32m    175\u001b[0m         (\u001b[39mself\u001b[39;49m\u001b[39m.\u001b[39;49m_dns_host, \u001b[39mself\u001b[39;49m\u001b[39m.\u001b[39;49mport), \u001b[39mself\u001b[39;49m\u001b[39m.\u001b[39;49mtimeout, \u001b[39m*\u001b[39;49m\u001b[39m*\u001b[39;49mextra_kw\n\u001b[1;32m    176\u001b[0m     )\n\u001b[1;32m    178\u001b[0m \u001b[39mexcept\u001b[39;00m SocketTimeout:\n",
      "File \u001b[0;32m~/.pyenv/versions/3.10.6/envs/future_proofing_cities/lib/python3.10/site-packages/urllib3/util/connection.py:72\u001b[0m, in \u001b[0;36mcreate_connection\u001b[0;34m(address, timeout, source_address, socket_options)\u001b[0m\n\u001b[1;32m     68\u001b[0m     \u001b[39mreturn\u001b[39;00m six\u001b[39m.\u001b[39mraise_from(\n\u001b[1;32m     69\u001b[0m         LocationParseError(\u001b[39mu\u001b[39m\u001b[39m\"\u001b[39m\u001b[39m'\u001b[39m\u001b[39m%s\u001b[39;00m\u001b[39m'\u001b[39m\u001b[39m, label empty or too long\u001b[39m\u001b[39m\"\u001b[39m \u001b[39m%\u001b[39m host), \u001b[39mNone\u001b[39;00m\n\u001b[1;32m     70\u001b[0m     )\n\u001b[0;32m---> 72\u001b[0m \u001b[39mfor\u001b[39;00m res \u001b[39min\u001b[39;00m socket\u001b[39m.\u001b[39;49mgetaddrinfo(host, port, family, socket\u001b[39m.\u001b[39;49mSOCK_STREAM):\n\u001b[1;32m     73\u001b[0m     af, socktype, proto, canonname, sa \u001b[39m=\u001b[39m res\n",
      "File \u001b[0;32m~/.pyenv/versions/3.10.6/lib/python3.10/socket.py:955\u001b[0m, in \u001b[0;36mgetaddrinfo\u001b[0;34m(host, port, family, type, proto, flags)\u001b[0m\n\u001b[1;32m    954\u001b[0m addrlist \u001b[39m=\u001b[39m []\n\u001b[0;32m--> 955\u001b[0m \u001b[39mfor\u001b[39;00m res \u001b[39min\u001b[39;00m _socket\u001b[39m.\u001b[39;49mgetaddrinfo(host, port, family, \u001b[39mtype\u001b[39;49m, proto, flags):\n\u001b[1;32m    956\u001b[0m     af, socktype, proto, canonname, sa \u001b[39m=\u001b[39m res\n",
      "\u001b[0;31mgaierror\u001b[0m: [Errno -3] Temporary failure in name resolution",
      "\nDuring handling of the above exception, another exception occurred:\n",
      "\u001b[0;31mNewConnectionError\u001b[0m                        Traceback (most recent call last)",
      "File \u001b[0;32m~/.pyenv/versions/3.10.6/envs/future_proofing_cities/lib/python3.10/site-packages/urllib3/connectionpool.py:703\u001b[0m, in \u001b[0;36mHTTPConnectionPool.urlopen\u001b[0;34m(self, method, url, body, headers, retries, redirect, assert_same_host, timeout, pool_timeout, release_conn, chunked, body_pos, **response_kw)\u001b[0m\n\u001b[1;32m    702\u001b[0m \u001b[39m# Make the request on the httplib connection object.\u001b[39;00m\n\u001b[0;32m--> 703\u001b[0m httplib_response \u001b[39m=\u001b[39m \u001b[39mself\u001b[39;49m\u001b[39m.\u001b[39;49m_make_request(\n\u001b[1;32m    704\u001b[0m     conn,\n\u001b[1;32m    705\u001b[0m     method,\n\u001b[1;32m    706\u001b[0m     url,\n\u001b[1;32m    707\u001b[0m     timeout\u001b[39m=\u001b[39;49mtimeout_obj,\n\u001b[1;32m    708\u001b[0m     body\u001b[39m=\u001b[39;49mbody,\n\u001b[1;32m    709\u001b[0m     headers\u001b[39m=\u001b[39;49mheaders,\n\u001b[1;32m    710\u001b[0m     chunked\u001b[39m=\u001b[39;49mchunked,\n\u001b[1;32m    711\u001b[0m )\n\u001b[1;32m    713\u001b[0m \u001b[39m# If we're going to release the connection in ``finally:``, then\u001b[39;00m\n\u001b[1;32m    714\u001b[0m \u001b[39m# the response doesn't need to know about the connection. Otherwise\u001b[39;00m\n\u001b[1;32m    715\u001b[0m \u001b[39m# it will also try to release it and we'll have a double-release\u001b[39;00m\n\u001b[1;32m    716\u001b[0m \u001b[39m# mess.\u001b[39;00m\n",
      "File \u001b[0;32m~/.pyenv/versions/3.10.6/envs/future_proofing_cities/lib/python3.10/site-packages/urllib3/connectionpool.py:386\u001b[0m, in \u001b[0;36mHTTPConnectionPool._make_request\u001b[0;34m(self, conn, method, url, timeout, chunked, **httplib_request_kw)\u001b[0m\n\u001b[1;32m    385\u001b[0m \u001b[39mtry\u001b[39;00m:\n\u001b[0;32m--> 386\u001b[0m     \u001b[39mself\u001b[39;49m\u001b[39m.\u001b[39;49m_validate_conn(conn)\n\u001b[1;32m    387\u001b[0m \u001b[39mexcept\u001b[39;00m (SocketTimeout, BaseSSLError) \u001b[39mas\u001b[39;00m e:\n\u001b[1;32m    388\u001b[0m     \u001b[39m# Py2 raises this as a BaseSSLError, Py3 raises it as socket timeout.\u001b[39;00m\n",
      "File \u001b[0;32m~/.pyenv/versions/3.10.6/envs/future_proofing_cities/lib/python3.10/site-packages/urllib3/connectionpool.py:1042\u001b[0m, in \u001b[0;36mHTTPSConnectionPool._validate_conn\u001b[0;34m(self, conn)\u001b[0m\n\u001b[1;32m   1041\u001b[0m \u001b[39mif\u001b[39;00m \u001b[39mnot\u001b[39;00m \u001b[39mgetattr\u001b[39m(conn, \u001b[39m\"\u001b[39m\u001b[39msock\u001b[39m\u001b[39m\"\u001b[39m, \u001b[39mNone\u001b[39;00m):  \u001b[39m# AppEngine might not have  `.sock`\u001b[39;00m\n\u001b[0;32m-> 1042\u001b[0m     conn\u001b[39m.\u001b[39;49mconnect()\n\u001b[1;32m   1044\u001b[0m \u001b[39mif\u001b[39;00m \u001b[39mnot\u001b[39;00m conn\u001b[39m.\u001b[39mis_verified:\n",
      "File \u001b[0;32m~/.pyenv/versions/3.10.6/envs/future_proofing_cities/lib/python3.10/site-packages/urllib3/connection.py:358\u001b[0m, in \u001b[0;36mHTTPSConnection.connect\u001b[0;34m(self)\u001b[0m\n\u001b[1;32m    356\u001b[0m \u001b[39mdef\u001b[39;00m \u001b[39mconnect\u001b[39m(\u001b[39mself\u001b[39m):\n\u001b[1;32m    357\u001b[0m     \u001b[39m# Add certificate verification\u001b[39;00m\n\u001b[0;32m--> 358\u001b[0m     \u001b[39mself\u001b[39m\u001b[39m.\u001b[39msock \u001b[39m=\u001b[39m conn \u001b[39m=\u001b[39m \u001b[39mself\u001b[39;49m\u001b[39m.\u001b[39;49m_new_conn()\n\u001b[1;32m    359\u001b[0m     hostname \u001b[39m=\u001b[39m \u001b[39mself\u001b[39m\u001b[39m.\u001b[39mhost\n",
      "File \u001b[0;32m~/.pyenv/versions/3.10.6/envs/future_proofing_cities/lib/python3.10/site-packages/urllib3/connection.py:186\u001b[0m, in \u001b[0;36mHTTPConnection._new_conn\u001b[0;34m(self)\u001b[0m\n\u001b[1;32m    185\u001b[0m \u001b[39mexcept\u001b[39;00m SocketError \u001b[39mas\u001b[39;00m e:\n\u001b[0;32m--> 186\u001b[0m     \u001b[39mraise\u001b[39;00m NewConnectionError(\n\u001b[1;32m    187\u001b[0m         \u001b[39mself\u001b[39m, \u001b[39m\"\u001b[39m\u001b[39mFailed to establish a new connection: \u001b[39m\u001b[39m%s\u001b[39;00m\u001b[39m\"\u001b[39m \u001b[39m%\u001b[39m e\n\u001b[1;32m    188\u001b[0m     )\n\u001b[1;32m    190\u001b[0m \u001b[39mreturn\u001b[39;00m conn\n",
      "\u001b[0;31mNewConnectionError\u001b[0m: <urllib3.connection.HTTPSConnection object at 0x7f23c549b9a0>: Failed to establish a new connection: [Errno -3] Temporary failure in name resolution",
      "\nDuring handling of the above exception, another exception occurred:\n",
      "\u001b[0;31mMaxRetryError\u001b[0m                             Traceback (most recent call last)",
      "File \u001b[0;32m~/.pyenv/versions/3.10.6/envs/future_proofing_cities/lib/python3.10/site-packages/requests/adapters.py:489\u001b[0m, in \u001b[0;36mHTTPAdapter.send\u001b[0;34m(self, request, stream, timeout, verify, cert, proxies)\u001b[0m\n\u001b[1;32m    488\u001b[0m \u001b[39mif\u001b[39;00m \u001b[39mnot\u001b[39;00m chunked:\n\u001b[0;32m--> 489\u001b[0m     resp \u001b[39m=\u001b[39m conn\u001b[39m.\u001b[39;49murlopen(\n\u001b[1;32m    490\u001b[0m         method\u001b[39m=\u001b[39;49mrequest\u001b[39m.\u001b[39;49mmethod,\n\u001b[1;32m    491\u001b[0m         url\u001b[39m=\u001b[39;49murl,\n\u001b[1;32m    492\u001b[0m         body\u001b[39m=\u001b[39;49mrequest\u001b[39m.\u001b[39;49mbody,\n\u001b[1;32m    493\u001b[0m         headers\u001b[39m=\u001b[39;49mrequest\u001b[39m.\u001b[39;49mheaders,\n\u001b[1;32m    494\u001b[0m         redirect\u001b[39m=\u001b[39;49m\u001b[39mFalse\u001b[39;49;00m,\n\u001b[1;32m    495\u001b[0m         assert_same_host\u001b[39m=\u001b[39;49m\u001b[39mFalse\u001b[39;49;00m,\n\u001b[1;32m    496\u001b[0m         preload_content\u001b[39m=\u001b[39;49m\u001b[39mFalse\u001b[39;49;00m,\n\u001b[1;32m    497\u001b[0m         decode_content\u001b[39m=\u001b[39;49m\u001b[39mFalse\u001b[39;49;00m,\n\u001b[1;32m    498\u001b[0m         retries\u001b[39m=\u001b[39;49m\u001b[39mself\u001b[39;49m\u001b[39m.\u001b[39;49mmax_retries,\n\u001b[1;32m    499\u001b[0m         timeout\u001b[39m=\u001b[39;49mtimeout,\n\u001b[1;32m    500\u001b[0m     )\n\u001b[1;32m    502\u001b[0m \u001b[39m# Send the request.\u001b[39;00m\n\u001b[1;32m    503\u001b[0m \u001b[39melse\u001b[39;00m:\n",
      "File \u001b[0;32m~/.pyenv/versions/3.10.6/envs/future_proofing_cities/lib/python3.10/site-packages/urllib3/connectionpool.py:787\u001b[0m, in \u001b[0;36mHTTPConnectionPool.urlopen\u001b[0;34m(self, method, url, body, headers, retries, redirect, assert_same_host, timeout, pool_timeout, release_conn, chunked, body_pos, **response_kw)\u001b[0m\n\u001b[1;32m    785\u001b[0m     e \u001b[39m=\u001b[39m ProtocolError(\u001b[39m\"\u001b[39m\u001b[39mConnection aborted.\u001b[39m\u001b[39m\"\u001b[39m, e)\n\u001b[0;32m--> 787\u001b[0m retries \u001b[39m=\u001b[39m retries\u001b[39m.\u001b[39;49mincrement(\n\u001b[1;32m    788\u001b[0m     method, url, error\u001b[39m=\u001b[39;49me, _pool\u001b[39m=\u001b[39;49m\u001b[39mself\u001b[39;49m, _stacktrace\u001b[39m=\u001b[39;49msys\u001b[39m.\u001b[39;49mexc_info()[\u001b[39m2\u001b[39;49m]\n\u001b[1;32m    789\u001b[0m )\n\u001b[1;32m    790\u001b[0m retries\u001b[39m.\u001b[39msleep()\n",
      "File \u001b[0;32m~/.pyenv/versions/3.10.6/envs/future_proofing_cities/lib/python3.10/site-packages/urllib3/util/retry.py:592\u001b[0m, in \u001b[0;36mRetry.increment\u001b[0;34m(self, method, url, response, error, _pool, _stacktrace)\u001b[0m\n\u001b[1;32m    591\u001b[0m \u001b[39mif\u001b[39;00m new_retry\u001b[39m.\u001b[39mis_exhausted():\n\u001b[0;32m--> 592\u001b[0m     \u001b[39mraise\u001b[39;00m MaxRetryError(_pool, url, error \u001b[39mor\u001b[39;00m ResponseError(cause))\n\u001b[1;32m    594\u001b[0m log\u001b[39m.\u001b[39mdebug(\u001b[39m\"\u001b[39m\u001b[39mIncremented Retry for (url=\u001b[39m\u001b[39m'\u001b[39m\u001b[39m%s\u001b[39;00m\u001b[39m'\u001b[39m\u001b[39m): \u001b[39m\u001b[39m%r\u001b[39;00m\u001b[39m\"\u001b[39m, url, new_retry)\n",
      "\u001b[0;31mMaxRetryError\u001b[0m: HTTPSConnectionPool(host='data.osmbuildings.org', port=443): Max retries exceeded with url: /0.2/anonymous/tile/15/16594/11285.json (Caused by NewConnectionError('<urllib3.connection.HTTPSConnection object at 0x7f23c549b9a0>: Failed to establish a new connection: [Errno -3] Temporary failure in name resolution'))",
      "\nDuring handling of the above exception, another exception occurred:\n",
      "\u001b[0;31mConnectionError\u001b[0m                           Traceback (most recent call last)",
      "Cell \u001b[0;32mIn[18], line 3\u001b[0m\n\u001b[1;32m      1\u001b[0m paris_tiles \u001b[39m=\u001b[39m get_tiles(paris_coords)\n\u001b[1;32m      2\u001b[0m paris_x_tiles, paris_y_tiles \u001b[39m=\u001b[39m get_all_tiles(paris_coords, paris_tiles)\n\u001b[0;32m----> 3\u001b[0m paris_jsons \u001b[39m=\u001b[39m get_all_tile_jsons(paris_x_tiles, paris_y_tiles)\n\u001b[1;32m      4\u001b[0m paris_buildings \u001b[39m=\u001b[39m receive_building_data(paris_jsons)\n",
      "File \u001b[0;32m~/code/b-fa-ce/future_proofing_cities/modules/building_data.py:86\u001b[0m, in \u001b[0;36mget_all_tile_jsons\u001b[0;34m(x_tiles, y_tiles, zoom)\u001b[0m\n\u001b[1;32m     84\u001b[0m         tile_lon \u001b[39m=\u001b[39m tile2lon(zoom, x, y)\n\u001b[1;32m     85\u001b[0m         tile \u001b[39m=\u001b[39m (x, y)\n\u001b[0;32m---> 86\u001b[0m         json_response \u001b[39m=\u001b[39m osmbuildings_request(tile_lat, tile_lon)\n\u001b[1;32m     87\u001b[0m         city_jsons[tile] \u001b[39m=\u001b[39m json_response\n\u001b[1;32m     88\u001b[0m \u001b[39mreturn\u001b[39;00m city_jsons\n",
      "File \u001b[0;32m~/code/b-fa-ce/future_proofing_cities/modules/building_data.py:46\u001b[0m, in \u001b[0;36mosmbuildings_request\u001b[0;34m(latitude, longitude)\u001b[0m\n\u001b[1;32m     44\u001b[0m \u001b[39mprint\u001b[39m(\u001b[39mf\u001b[39m\u001b[39m\"\u001b[39m\u001b[39mURL: \u001b[39m\u001b[39m{\u001b[39;00murl\u001b[39m}\u001b[39;00m\u001b[39m\"\u001b[39m)\n\u001b[1;32m     45\u001b[0m headers \u001b[39m=\u001b[39m {\u001b[39m'\u001b[39m\u001b[39mUser-Agent\u001b[39m\u001b[39m'\u001b[39m: \u001b[39m'\u001b[39m\u001b[39mMozilla/5.0 (Windows NT 10.0; rv:91.0) Gecko/20100101 Firefox/91.0\u001b[39m\u001b[39m'\u001b[39m}\n\u001b[0;32m---> 46\u001b[0m response \u001b[39m=\u001b[39m requests\u001b[39m.\u001b[39;49mget(url, headers \u001b[39m=\u001b[39;49m headers)\n\u001b[1;32m     47\u001b[0m json_response \u001b[39m=\u001b[39m response\u001b[39m.\u001b[39mjson()\n\u001b[1;32m     48\u001b[0m \u001b[39mreturn\u001b[39;00m json_response\n",
      "File \u001b[0;32m~/.pyenv/versions/3.10.6/envs/future_proofing_cities/lib/python3.10/site-packages/requests/api.py:73\u001b[0m, in \u001b[0;36mget\u001b[0;34m(url, params, **kwargs)\u001b[0m\n\u001b[1;32m     62\u001b[0m \u001b[39mdef\u001b[39;00m \u001b[39mget\u001b[39m(url, params\u001b[39m=\u001b[39m\u001b[39mNone\u001b[39;00m, \u001b[39m*\u001b[39m\u001b[39m*\u001b[39mkwargs):\n\u001b[1;32m     63\u001b[0m     \u001b[39mr\u001b[39m\u001b[39m\"\"\"Sends a GET request.\u001b[39;00m\n\u001b[1;32m     64\u001b[0m \n\u001b[1;32m     65\u001b[0m \u001b[39m    :param url: URL for the new :class:`Request` object.\u001b[39;00m\n\u001b[0;32m   (...)\u001b[0m\n\u001b[1;32m     70\u001b[0m \u001b[39m    :rtype: requests.Response\u001b[39;00m\n\u001b[1;32m     71\u001b[0m \u001b[39m    \"\"\"\u001b[39;00m\n\u001b[0;32m---> 73\u001b[0m     \u001b[39mreturn\u001b[39;00m request(\u001b[39m\"\u001b[39;49m\u001b[39mget\u001b[39;49m\u001b[39m\"\u001b[39;49m, url, params\u001b[39m=\u001b[39;49mparams, \u001b[39m*\u001b[39;49m\u001b[39m*\u001b[39;49mkwargs)\n",
      "File \u001b[0;32m~/.pyenv/versions/3.10.6/envs/future_proofing_cities/lib/python3.10/site-packages/requests/api.py:59\u001b[0m, in \u001b[0;36mrequest\u001b[0;34m(method, url, **kwargs)\u001b[0m\n\u001b[1;32m     55\u001b[0m \u001b[39m# By using the 'with' statement we are sure the session is closed, thus we\u001b[39;00m\n\u001b[1;32m     56\u001b[0m \u001b[39m# avoid leaving sockets open which can trigger a ResourceWarning in some\u001b[39;00m\n\u001b[1;32m     57\u001b[0m \u001b[39m# cases, and look like a memory leak in others.\u001b[39;00m\n\u001b[1;32m     58\u001b[0m \u001b[39mwith\u001b[39;00m sessions\u001b[39m.\u001b[39mSession() \u001b[39mas\u001b[39;00m session:\n\u001b[0;32m---> 59\u001b[0m     \u001b[39mreturn\u001b[39;00m session\u001b[39m.\u001b[39;49mrequest(method\u001b[39m=\u001b[39;49mmethod, url\u001b[39m=\u001b[39;49murl, \u001b[39m*\u001b[39;49m\u001b[39m*\u001b[39;49mkwargs)\n",
      "File \u001b[0;32m~/.pyenv/versions/3.10.6/envs/future_proofing_cities/lib/python3.10/site-packages/requests/sessions.py:587\u001b[0m, in \u001b[0;36mSession.request\u001b[0;34m(self, method, url, params, data, headers, cookies, files, auth, timeout, allow_redirects, proxies, hooks, stream, verify, cert, json)\u001b[0m\n\u001b[1;32m    582\u001b[0m send_kwargs \u001b[39m=\u001b[39m {\n\u001b[1;32m    583\u001b[0m     \u001b[39m\"\u001b[39m\u001b[39mtimeout\u001b[39m\u001b[39m\"\u001b[39m: timeout,\n\u001b[1;32m    584\u001b[0m     \u001b[39m\"\u001b[39m\u001b[39mallow_redirects\u001b[39m\u001b[39m\"\u001b[39m: allow_redirects,\n\u001b[1;32m    585\u001b[0m }\n\u001b[1;32m    586\u001b[0m send_kwargs\u001b[39m.\u001b[39mupdate(settings)\n\u001b[0;32m--> 587\u001b[0m resp \u001b[39m=\u001b[39m \u001b[39mself\u001b[39;49m\u001b[39m.\u001b[39;49msend(prep, \u001b[39m*\u001b[39;49m\u001b[39m*\u001b[39;49msend_kwargs)\n\u001b[1;32m    589\u001b[0m \u001b[39mreturn\u001b[39;00m resp\n",
      "File \u001b[0;32m~/.pyenv/versions/3.10.6/envs/future_proofing_cities/lib/python3.10/site-packages/requests/sessions.py:701\u001b[0m, in \u001b[0;36mSession.send\u001b[0;34m(self, request, **kwargs)\u001b[0m\n\u001b[1;32m    698\u001b[0m start \u001b[39m=\u001b[39m preferred_clock()\n\u001b[1;32m    700\u001b[0m \u001b[39m# Send the request\u001b[39;00m\n\u001b[0;32m--> 701\u001b[0m r \u001b[39m=\u001b[39m adapter\u001b[39m.\u001b[39;49msend(request, \u001b[39m*\u001b[39;49m\u001b[39m*\u001b[39;49mkwargs)\n\u001b[1;32m    703\u001b[0m \u001b[39m# Total elapsed time of the request (approximately)\u001b[39;00m\n\u001b[1;32m    704\u001b[0m elapsed \u001b[39m=\u001b[39m preferred_clock() \u001b[39m-\u001b[39m start\n",
      "File \u001b[0;32m~/.pyenv/versions/3.10.6/envs/future_proofing_cities/lib/python3.10/site-packages/requests/adapters.py:565\u001b[0m, in \u001b[0;36mHTTPAdapter.send\u001b[0;34m(self, request, stream, timeout, verify, cert, proxies)\u001b[0m\n\u001b[1;32m    561\u001b[0m     \u001b[39mif\u001b[39;00m \u001b[39misinstance\u001b[39m(e\u001b[39m.\u001b[39mreason, _SSLError):\n\u001b[1;32m    562\u001b[0m         \u001b[39m# This branch is for urllib3 v1.22 and later.\u001b[39;00m\n\u001b[1;32m    563\u001b[0m         \u001b[39mraise\u001b[39;00m SSLError(e, request\u001b[39m=\u001b[39mrequest)\n\u001b[0;32m--> 565\u001b[0m     \u001b[39mraise\u001b[39;00m \u001b[39mConnectionError\u001b[39;00m(e, request\u001b[39m=\u001b[39mrequest)\n\u001b[1;32m    567\u001b[0m \u001b[39mexcept\u001b[39;00m ClosedPoolError \u001b[39mas\u001b[39;00m e:\n\u001b[1;32m    568\u001b[0m     \u001b[39mraise\u001b[39;00m \u001b[39mConnectionError\u001b[39;00m(e, request\u001b[39m=\u001b[39mrequest)\n",
      "\u001b[0;31mConnectionError\u001b[0m: HTTPSConnectionPool(host='data.osmbuildings.org', port=443): Max retries exceeded with url: /0.2/anonymous/tile/15/16594/11285.json (Caused by NewConnectionError('<urllib3.connection.HTTPSConnection object at 0x7f23c549b9a0>: Failed to establish a new connection: [Errno -3] Temporary failure in name resolution'))"
     ]
    }
   ],
   "source": [
    "paris_tiles = get_tiles(paris_coords)\n",
    "paris_x_tiles, paris_y_tiles = get_all_tiles(paris_coords, paris_tiles)\n",
    "paris_jsons = get_all_tile_jsons(paris_x_tiles, paris_y_tiles)\n",
    "paris_buildings = receive_building_data(paris_jsons)"
   ]
  },
  {
   "cell_type": "code",
   "execution_count": 20,
   "metadata": {},
   "outputs": [
    {
     "ename": "NameError",
     "evalue": "name 'paris_jsons' is not defined",
     "output_type": "error",
     "traceback": [
      "\u001b[0;31m---------------------------------------------------------------------------\u001b[0m",
      "\u001b[0;31mNameError\u001b[0m                                 Traceback (most recent call last)",
      "Cell \u001b[0;32mIn[20], line 1\u001b[0m\n\u001b[0;32m----> 1\u001b[0m paris_jsons[\u001b[39m0\u001b[39m]\n",
      "\u001b[0;31mNameError\u001b[0m: name 'paris_jsons' is not defined"
     ]
    }
   ],
   "source": [
    "paris_jsons[0]"
   ]
  },
  {
   "cell_type": "code",
   "execution_count": 16,
   "metadata": {},
   "outputs": [],
   "source": [
    "single_pixel = paris_df['test'][0]"
   ]
  },
  {
   "cell_type": "code",
   "execution_count": 40,
   "metadata": {},
   "outputs": [
    {
     "data": {
      "text/plain": [
       "[[2.2633263464873545, 48.81321032181281],\n",
       " [2.2633263464873545, 48.813839888049166],\n",
       " [2.2639559127237074, 48.813839888049166],\n",
       " [2.2639559127237074, 48.81321032181281]]"
      ]
     },
     "execution_count": 40,
     "metadata": {},
     "output_type": "execute_result"
    }
   ],
   "source": [
    "single_pixel"
   ]
  },
  {
   "cell_type": "code",
   "execution_count": 87,
   "metadata": {},
   "outputs": [],
   "source": [
    "building_density = get_building_coverage(paris_buildings, clip, single_pixel)"
   ]
  },
  {
   "cell_type": "code",
   "execution_count": 88,
   "metadata": {},
   "outputs": [
    {
     "data": {
      "text/plain": [
       "0.027406419466892006"
      ]
     },
     "execution_count": 88,
     "metadata": {},
     "output_type": "execute_result"
    }
   ],
   "source": [
    "building_density"
   ]
  },
  {
   "cell_type": "code",
   "execution_count": 32,
   "metadata": {},
   "outputs": [],
   "source": [
    "test_set = paris_df['test'][:10]"
   ]
  },
  {
   "cell_type": "code",
   "execution_count": 89,
   "metadata": {},
   "outputs": [],
   "source": [
    "building_densities = [get_building_coverage(paris_buildings, clip, pixel) for pixel in test_set]"
   ]
  },
  {
   "cell_type": "code",
   "execution_count": 90,
   "metadata": {},
   "outputs": [
    {
     "data": {
      "text/plain": [
       "[0.027406419466892006,\n",
       " 0.09271208456622948,\n",
       " 0.06005162768672451,\n",
       " 0.004278246729816333,\n",
       " 0.01312244811213052,\n",
       " 0.017363859450119708,\n",
       " 0.03459807158376528,\n",
       " 0.010080973420051632,\n",
       " 0.047053275099517414,\n",
       " 0.05453027720990245]"
      ]
     },
     "execution_count": 90,
     "metadata": {},
     "output_type": "execute_result"
    }
   ],
   "source": [
    "building_densities"
   ]
  },
  {
   "cell_type": "code",
   "execution_count": null,
   "metadata": {},
   "outputs": [],
   "source": [
    "[0.027406419466892006,\n",
    " 0.00861925398265395,\n",
    " 0.06005162768672451,\n",
    " 0.004278246729816333,\n",
    " 0.01312244811213052,\n",
    " 0.017363859450119708,\n",
    " 0.03459807158376528,\n",
    " 0.010080973420051632,\n",
    " 0.047053275099517414,\n",
    " 0.05453027720990245]"
   ]
  },
  {
   "cell_type": "code",
   "execution_count": 39,
   "metadata": {},
   "outputs": [],
   "source": [
    "# paris_df['building_density'] = paris_df.test.apply(lambda x : get_building_coverage(paris_buildings, clip, x))"
   ]
  },
  {
   "cell_type": "code",
   "execution_count": 47,
   "metadata": {},
   "outputs": [
    {
     "data": {
      "text/plain": [
       "float"
      ]
     },
     "execution_count": 47,
     "metadata": {},
     "output_type": "execute_result"
    }
   ],
   "source": [
    "type(paris_buildings[0][1][0][0])"
   ]
  },
  {
   "cell_type": "code",
   "execution_count": 46,
   "metadata": {},
   "outputs": [
    {
     "data": {
      "text/plain": [
       "float"
      ]
     },
     "execution_count": 46,
     "metadata": {},
     "output_type": "execute_result"
    }
   ],
   "source": [
    "type(single_pixel[0][0])"
   ]
  },
  {
   "cell_type": "code",
   "execution_count": 52,
   "metadata": {},
   "outputs": [],
   "source": [
    "def get_matching_buildings(buildings, pixel):\n",
    "    local_buildings = []\n",
    "    for building in buildings:\n",
    "        coords = building[1]\n",
    "        for point in coords:\n",
    "            if pixel[0][0] < point[0] < pixel[2][0] and pixel[0][1] < point[1] < pixel[1][1]:\n",
    "                local_buildings.append(building)\n",
    "                continue\n",
    "    return local_buildings"
   ]
  },
  {
   "cell_type": "code",
   "execution_count": 53,
   "metadata": {},
   "outputs": [],
   "source": [
    "matching_buildings = get_matching_buildings(paris_buildings, single_pixel)"
   ]
  },
  {
   "cell_type": "code",
   "execution_count": 59,
   "metadata": {},
   "outputs": [],
   "source": [
    "def split_x_y(coords):\n",
    "    x = []\n",
    "    y = []\n",
    "    for coord in coords:\n",
    "        x.append(coord[0])\n",
    "        y.append(coord[1])\n",
    "    return x, y"
   ]
  },
  {
   "cell_type": "code",
   "execution_count": 101,
   "metadata": {},
   "outputs": [],
   "source": [
    "def plot_buildings_pixel(buildings, pixel):\n",
    "    pixel_returning = pixel.copy()\n",
    "    pixel_returning.append(pixel[0])\n",
    "    x, y = split_x_y(pixel_returning)\n",
    "    plt.plot(x, y)\n",
    "    for building in buildings:\n",
    "        building_coords = building[1]\n",
    "        x, y = split_x_y(building_coords)\n",
    "        plt.plot(x, y)"
   ]
  },
  {
   "cell_type": "code",
   "execution_count": 61,
   "metadata": {},
   "outputs": [],
   "source": [
    "troublesome_pixel = paris_df['test'][1]"
   ]
  },
  {
   "cell_type": "code",
   "execution_count": 62,
   "metadata": {},
   "outputs": [],
   "source": [
    "matching_buildings2 = get_matching_buildings(paris_buildings, single_pixel)"
   ]
  },
  {
   "cell_type": "code",
   "execution_count": 72,
   "metadata": {},
   "outputs": [
    {
     "name": "stdout",
     "output_type": "stream",
     "text": [
      "[2.2633263464873545, 2.2633263464873545, 2.2639559127237074, 2.2639559127237074] [48.81321032181281, 48.813839888049166, 48.813839888049166, 48.81321032181281]\n"
     ]
    }
   ],
   "source": [
    "x, y = split_x_y(single_pixel)\n",
    "x2, y2 = split_x_y(troublesome_pixel)\n",
    "print(x, y)"
   ]
  },
  {
   "cell_type": "code",
   "execution_count": 102,
   "metadata": {},
   "outputs": [
    {
     "data": {
      "image/png": "[encoded data removed]",
      "text/plain": [
       "<Figure size 640x480 with 1 Axes>"
      ]
     },
     "metadata": {},
     "output_type": "display_data"
    }
   ],
   "source": [
    "plot_buildings_pixel(matching_buildings, single_pixel)\n",
    "plot_buildings_pixel(matching_buildings2, troublesome_pixel)"
   ]
  },
  {
   "cell_type": "code",
   "execution_count": 103,
   "metadata": {},
   "outputs": [
    {
     "data": {
      "image/png": "[encoded data removed]",
      "text/plain": [
       "<Figure size 640x480 with 1 Axes>"
      ]
     },
     "metadata": {},
     "output_type": "display_data"
    }
   ],
   "source": [
    "test_pixel = paris_df['test'][20]\n",
    "matching_buildings3 = get_matching_buildings(paris_buildings, test_pixel)\n",
    "plot_buildings_pixel(matching_buildings3, test_pixel)\n",
    "building_density = get_building_coverage(paris_buildings, clip, test_pixel)\n",
    "plt.title(f\"Building density of pixel is: {round(building_density, 3)}\")\n",
    "plt.show;\n"
   ]
  },
  {
   "cell_type": "code",
   "execution_count": 105,
   "metadata": {},
   "outputs": [],
   "source": [
    "# paris_df['building_density'] = paris_df['test'].apply(lambda x: get_building_coverage(paris_buildings, clip, x))"
   ]
  }
 ],
 "metadata": {
  "kernelspec": {
   "display_name": "Python 3.10.6 64-bit ('future_proofing_cities')",
   "language": "python",
   "name": "python3"
  },
  "language_info": {
   "codemirror_mode": {
    "name": "ipython",
    "version": 3
   },
   "file_extension": ".py",
   "mimetype": "text/x-python",
   "name": "python",
   "nbconvert_exporter": "python",
   "pygments_lexer": "ipython3",
   "version": "3.10.6"
  },
  "orig_nbformat": 4,
  "vscode": {
   "interpreter": {
    "hash": "0074166b104725c523b8868ab41b8fc8117b4c3f934723be5b4b5a4e23a08e07"
   }
  }
 },
 "nbformat": 4,
 "nbformat_minor": 2
}
