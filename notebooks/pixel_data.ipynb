{
 "cells": [
  {
   "cell_type": "code",
   "execution_count": 21,
   "metadata": {},
   "outputs": [],
   "source": [
    "from modules.building_data import get_tile, osmbuildings_request, receive_building_data, tile_bbox"
   ]
  },
  {
   "cell_type": "code",
   "execution_count": 92,
   "metadata": {},
   "outputs": [],
   "source": [
    "from modules.building_data import get_all_tiles, get_all_tile_jsons, get_tiles, get_split_coords\n",
    "from modules.building_data import is_polygon_point_inside, is_polygon_inside, get_clipped_polygon_area, get_building_coverage\n",
    "from modules.building_data import plot_pixel_and_polygons, get_split_coords "
   ]
  },
  {
   "cell_type": "code",
   "execution_count": 23,
   "metadata": {},
   "outputs": [
    {
     "name": "stdout",
     "output_type": "stream",
     "text": [
      "The autoreload extension is already loaded. To reload it, use:\n",
      "  %reload_ext autoreload\n"
     ]
    }
   ],
   "source": [
    "%load_ext autoreload\n",
    "%autoreload 2"
   ]
  },
  {
   "cell_type": "code",
   "execution_count": 76,
   "metadata": {},
   "outputs": [],
   "source": [
    "import numpy as np\n",
    "import matplotlib.pyplot as plt\n",
    "import mpmath as mp\n",
    "import requests\n",
    "import pandas as pd\n",
    "import warnings\n",
    "from shapely.geometry import Polygon\n",
    "from modules.clipper import PolygonClipper\n",
    "from ast import literal_eval\n",
    "import json"
   ]
  },
  {
   "cell_type": "code",
   "execution_count": 26,
   "metadata": {},
   "outputs": [],
   "source": [
    "paris_df = pd.read_csv(\"../data/processed_data/Paris/Paris.csv\")"
   ]
  },
  {
   "cell_type": "code",
   "execution_count": 27,
   "metadata": {},
   "outputs": [
    {
     "data": {
      "text/html": [
       "<div>\n",
       "<style scoped>\n",
       "    .dataframe tbody tr th:only-of-type {\n",
       "        vertical-align: middle;\n",
       "    }\n",
       "\n",
       "    .dataframe tbody tr th {\n",
       "        vertical-align: top;\n",
       "    }\n",
       "\n",
       "    .dataframe thead th {\n",
       "        text-align: right;\n",
       "    }\n",
       "</style>\n",
       "<table border=\"1\" class=\"dataframe\">\n",
       "  <thead>\n",
       "    <tr style=\"text-align: right;\">\n",
       "      <th></th>\n",
       "      <th>LST</th>\n",
       "      <th>ele</th>\n",
       "      <th>LST_diff</th>\n",
       "      <th>ele_diff</th>\n",
       "      <th>ul_corner</th>\n",
       "      <th>ll_corner</th>\n",
       "      <th>lr_corner</th>\n",
       "      <th>ur_corner</th>\n",
       "      <th>bb</th>\n",
       "    </tr>\n",
       "  </thead>\n",
       "  <tbody>\n",
       "    <tr>\n",
       "      <th>0</th>\n",
       "      <td>28.489990</td>\n",
       "      <td>45.577310</td>\n",
       "      <td>-2.315979</td>\n",
       "      <td>-28.184334</td>\n",
       "      <td>[[2.2633263464873545, 48.81321032181281]]</td>\n",
       "      <td>[[2.2633263464873545, 48.813839888049166]]</td>\n",
       "      <td>[[2.2639559127237074, 48.813839888049166]]</td>\n",
       "      <td>[[2.2639559127237074, 48.81321032181281]]</td>\n",
       "      <td>[[2.2633263464873545, 48.81321032181281], [2.2...</td>\n",
       "    </tr>\n",
       "    <tr>\n",
       "      <th>1</th>\n",
       "      <td>28.549988</td>\n",
       "      <td>45.577430</td>\n",
       "      <td>-2.255981</td>\n",
       "      <td>-28.184212</td>\n",
       "      <td>[[2.2639559127237074, 48.81321032181281]]</td>\n",
       "      <td>[[2.2639559127237074, 48.813839888049166]]</td>\n",
       "      <td>[[2.2645854789600603, 48.813839888049166]]</td>\n",
       "      <td>[[2.2645854789600603, 48.81321032181281]]</td>\n",
       "      <td>[[2.2639559127237074, 48.81321032181281], [2.2...</td>\n",
       "    </tr>\n",
       "    <tr>\n",
       "      <th>2</th>\n",
       "      <td>28.450012</td>\n",
       "      <td>46.947140</td>\n",
       "      <td>-2.355957</td>\n",
       "      <td>-26.814503</td>\n",
       "      <td>[[2.2645854789600603, 48.81321032181281]]</td>\n",
       "      <td>[[2.2645854789600603, 48.813839888049166]]</td>\n",
       "      <td>[[2.2652150451964133, 48.813839888049166]]</td>\n",
       "      <td>[[2.2652150451964133, 48.81321032181281]]</td>\n",
       "      <td>[[2.2645854789600603, 48.81321032181281], [2.2...</td>\n",
       "    </tr>\n",
       "    <tr>\n",
       "      <th>3</th>\n",
       "      <td>29.230011</td>\n",
       "      <td>48.411680</td>\n",
       "      <td>-1.575958</td>\n",
       "      <td>-25.349964</td>\n",
       "      <td>[[2.2652150451964133, 48.81321032181281]]</td>\n",
       "      <td>[[2.2652150451964133, 48.813839888049166]]</td>\n",
       "      <td>[[2.265844611432766, 48.813839888049166]]</td>\n",
       "      <td>[[2.265844611432766, 48.81321032181281]]</td>\n",
       "      <td>[[2.2652150451964133, 48.81321032181281], [2.2...</td>\n",
       "    </tr>\n",
       "    <tr>\n",
       "      <th>4</th>\n",
       "      <td>27.889984</td>\n",
       "      <td>48.643574</td>\n",
       "      <td>-2.915985</td>\n",
       "      <td>-25.118069</td>\n",
       "      <td>[[2.265844611432766, 48.81321032181281]]</td>\n",
       "      <td>[[2.265844611432766, 48.813839888049166]]</td>\n",
       "      <td>[[2.266474177669119, 48.813839888049166]]</td>\n",
       "      <td>[[2.266474177669119, 48.81321032181281]]</td>\n",
       "      <td>[[2.265844611432766, 48.81321032181281], [2.26...</td>\n",
       "    </tr>\n",
       "  </tbody>\n",
       "</table>\n",
       "</div>"
      ],
      "text/plain": [
       "         LST        ele  LST_diff   ele_diff  \\\n",
       "0  28.489990  45.577310 -2.315979 -28.184334   \n",
       "1  28.549988  45.577430 -2.255981 -28.184212   \n",
       "2  28.450012  46.947140 -2.355957 -26.814503   \n",
       "3  29.230011  48.411680 -1.575958 -25.349964   \n",
       "4  27.889984  48.643574 -2.915985 -25.118069   \n",
       "\n",
       "                                   ul_corner  \\\n",
       "0  [[2.2633263464873545, 48.81321032181281]]   \n",
       "1  [[2.2639559127237074, 48.81321032181281]]   \n",
       "2  [[2.2645854789600603, 48.81321032181281]]   \n",
       "3  [[2.2652150451964133, 48.81321032181281]]   \n",
       "4   [[2.265844611432766, 48.81321032181281]]   \n",
       "\n",
       "                                    ll_corner  \\\n",
       "0  [[2.2633263464873545, 48.813839888049166]]   \n",
       "1  [[2.2639559127237074, 48.813839888049166]]   \n",
       "2  [[2.2645854789600603, 48.813839888049166]]   \n",
       "3  [[2.2652150451964133, 48.813839888049166]]   \n",
       "4   [[2.265844611432766, 48.813839888049166]]   \n",
       "\n",
       "                                    lr_corner  \\\n",
       "0  [[2.2639559127237074, 48.813839888049166]]   \n",
       "1  [[2.2645854789600603, 48.813839888049166]]   \n",
       "2  [[2.2652150451964133, 48.813839888049166]]   \n",
       "3   [[2.265844611432766, 48.813839888049166]]   \n",
       "4   [[2.266474177669119, 48.813839888049166]]   \n",
       "\n",
       "                                   ur_corner  \\\n",
       "0  [[2.2639559127237074, 48.81321032181281]]   \n",
       "1  [[2.2645854789600603, 48.81321032181281]]   \n",
       "2  [[2.2652150451964133, 48.81321032181281]]   \n",
       "3   [[2.265844611432766, 48.81321032181281]]   \n",
       "4   [[2.266474177669119, 48.81321032181281]]   \n",
       "\n",
       "                                                  bb  \n",
       "0  [[2.2633263464873545, 48.81321032181281], [2.2...  \n",
       "1  [[2.2639559127237074, 48.81321032181281], [2.2...  \n",
       "2  [[2.2645854789600603, 48.81321032181281], [2.2...  \n",
       "3  [[2.2652150451964133, 48.81321032181281], [2.2...  \n",
       "4  [[2.265844611432766, 48.81321032181281], [2.26...  "
      ]
     },
     "execution_count": 27,
     "metadata": {},
     "output_type": "execute_result"
    }
   ],
   "source": [
    "paris_df.head()"
   ]
  },
  {
   "cell_type": "code",
   "execution_count": 8,
   "metadata": {},
   "outputs": [
    {
     "name": "stdout",
     "output_type": "stream",
     "text": [
      "<class 'pandas.core.frame.DataFrame'>\n",
      "RangeIndex: 35028 entries, 0 to 35027\n",
      "Data columns (total 9 columns):\n",
      " #   Column     Non-Null Count  Dtype  \n",
      "---  ------     --------------  -----  \n",
      " 0   LST        35028 non-null  float64\n",
      " 1   ele        35028 non-null  float64\n",
      " 2   LST_diff   35028 non-null  float64\n",
      " 3   ele_diff   35028 non-null  float64\n",
      " 4   ul_corner  35028 non-null  object \n",
      " 5   ll_corner  35028 non-null  object \n",
      " 6   lr_corner  35028 non-null  object \n",
      " 7   ur_corner  35028 non-null  object \n",
      " 8   bb         35028 non-null  object \n",
      "dtypes: float64(4), object(5)\n",
      "memory usage: 2.4+ MB\n"
     ]
    }
   ],
   "source": [
    "paris_df.info()"
   ]
  },
  {
   "cell_type": "code",
   "execution_count": 28,
   "metadata": {},
   "outputs": [],
   "source": [
    "paris_df['test'] = paris_df['bb'].copy()"
   ]
  },
  {
   "cell_type": "code",
   "execution_count": 29,
   "metadata": {},
   "outputs": [],
   "source": [
    "paris_df['test'] = paris_df.test.apply(literal_eval)"
   ]
  },
  {
   "cell_type": "code",
   "execution_count": 11,
   "metadata": {},
   "outputs": [
    {
     "data": {
      "text/plain": [
       "list"
      ]
     },
     "execution_count": 11,
     "metadata": {},
     "output_type": "execute_result"
    }
   ],
   "source": [
    "type(paris_df.test[0])"
   ]
  },
  {
   "cell_type": "code",
   "execution_count": null,
   "metadata": {},
   "outputs": [],
   "source": [
    "# paris_df.bb.apply(lambda x: x.)"
   ]
  },
  {
   "cell_type": "code",
   "execution_count": null,
   "metadata": {},
   "outputs": [],
   "source": [
    "# paris_df['test'] = paris_df['test'].replace('[]', '')"
   ]
  },
  {
   "cell_type": "code",
   "execution_count": null,
   "metadata": {},
   "outputs": [],
   "source": [
    "# paris_df.bb.apply(lambda x: x.)"
   ]
  },
  {
   "cell_type": "code",
   "execution_count": 30,
   "metadata": {},
   "outputs": [],
   "source": [
    "clip = PolygonClipper(warn_if_empty=False)"
   ]
  },
  {
   "cell_type": "code",
   "execution_count": 82,
   "metadata": {},
   "outputs": [],
   "source": [
    "def get_building_clipped_area(building_coords, clip, pixel):\n",
    "    clipped = clip(building_coords, pixel)\n",
    "    pgon = Polygon(clipped)\n",
    "    area = pgon.area\n",
    "    return area"
   ]
  },
  {
   "cell_type": "code",
   "execution_count": 32,
   "metadata": {},
   "outputs": [],
   "source": [
    "def is_building_inside(building_coords, pixel):\n",
    "    inside=True\n",
    "    for coord in building_coords:\n",
    "        if pixel[0][0] < coord[0] < pixel[2][0] and pixel[0][1] < coord[1] < pixel[1][1]:\n",
    "            pass\n",
    "        else:\n",
    "            inside = False\n",
    "    return inside"
   ]
  },
  {
   "cell_type": "code",
   "execution_count": 53,
   "metadata": {},
   "outputs": [],
   "source": [
    "def is_point_inside(building_coords, pixel):\n",
    "    inside=False\n",
    "    for coord in building_coords:\n",
    "        if pixel[0][0] < coord[0] < pixel[2][0] and pixel[0][1] < coord[1] < pixel[1][1]:\n",
    "            inside = True\n",
    "        else:\n",
    "            continue\n",
    "    return inside"
   ]
  },
  {
   "cell_type": "code",
   "execution_count": 80,
   "metadata": {},
   "outputs": [],
   "source": [
    "def get_building_coverage(buildings, clip, pixel):\n",
    "    separate_areas = []\n",
    "    for building in buildings:\n",
    "        building_coords = building[1]\n",
    "        if is_building_inside(building_coords, pixel):\n",
    "            pgon = Polygon(building_coords)\n",
    "            separate_areas.append(pgon.area)\n",
    "        elif is_point_inside(building_coords, pixel):\n",
    "            area = get_building_clipped_area(building_coords, clip, pixel)\n",
    "            separate_areas.append(area)\n",
    "    built_area = np.sum(separate_areas)\n",
    "    pixel_poly = Polygon(pixel)\n",
    "    pixel_area = pixel_poly.area\n",
    "    prop_area_built = built_area/pixel_area\n",
    "    return prop_area_built"
   ]
  },
  {
   "cell_type": "code",
   "execution_count": 50,
   "metadata": {},
   "outputs": [],
   "source": [
    "# def get_building_coverage(buildings, clip, pixel):\n",
    "#     separate_areas = []\n",
    "#     for building in buildings:\n",
    "#         building_coords = building[1]\n",
    "#         try:\n",
    "#             area = get_building_clipped_area(building, clip, pixel)\n",
    "#             separate_areas.append(area)\n",
    "#             print('building area added')\n",
    "#         except:\n",
    "#             if is_building_inside(building_coords, pixel):\n",
    "#                 pgon = Polygon(building_coords)\n",
    "#                 separate_areas.append(pgon.area)\n",
    "#                 print('building area added')\n",
    "#     built_area = np.sum(separate_areas)\n",
    "#     print(f'The separate areas are {separate_areas}')\n",
    "#     print(f'the total built area is{built_area}')\n",
    "#     pixel_poly = Polygon(pixel)\n",
    "#     pixel_area = pixel_poly.area\n",
    "#     prop_area_built = built_area/pixel_area\n",
    "#     print(f'the proportional area is {prop_area_built}')\n",
    "#     return prop_area_built"
   ]
  },
  {
   "cell_type": "code",
   "execution_count": 17,
   "metadata": {},
   "outputs": [],
   "source": [
    "paris_coords = {'upper_left': [48.813898, 2.264216],\n",
    "                'lower_right': [48.900502, 2.42172]}"
   ]
  },
  {
   "cell_type": "code",
   "execution_count": 34,
   "metadata": {},
   "outputs": [],
   "source": [
    "f = open('/home/matt/code/b-fa-ce/future_proofing_cities/data/building_data_raw.json')\n",
    "paris_jsons = json.load(f)\n",
    "paris_buildings = receive_building_data(paris_jsons)"
   ]
  },
  {
   "cell_type": "code",
   "execution_count": 35,
   "metadata": {},
   "outputs": [
    {
     "data": {
      "text/plain": [
       "[3,\n",
       " [[2.264284, 48.80854],\n",
       "  [2.264271, 48.808532],\n",
       "  [2.264219, 48.808564],\n",
       "  [2.264237, 48.808584],\n",
       "  [2.264256, 48.808572],\n",
       "  [2.264245, 48.808564],\n",
       "  [2.264284, 48.80854]]]"
      ]
     },
     "execution_count": 35,
     "metadata": {},
     "output_type": "execute_result"
    }
   ],
   "source": [
    "paris_buildings[0]"
   ]
  },
  {
   "cell_type": "code",
   "execution_count": 16,
   "metadata": {},
   "outputs": [],
   "source": [
    "single_pixel = paris_df['test'][0]"
   ]
  },
  {
   "cell_type": "code",
   "execution_count": 40,
   "metadata": {},
   "outputs": [
    {
     "data": {
      "text/plain": [
       "[[2.2633263464873545, 48.81321032181281],\n",
       " [2.2633263464873545, 48.813839888049166],\n",
       " [2.2639559127237074, 48.813839888049166],\n",
       " [2.2639559127237074, 48.81321032181281]]"
      ]
     },
     "execution_count": 40,
     "metadata": {},
     "output_type": "execute_result"
    }
   ],
   "source": [
    "single_pixel"
   ]
  },
  {
   "cell_type": "code",
   "execution_count": 87,
   "metadata": {},
   "outputs": [],
   "source": [
    "building_density = get_building_coverage(paris_buildings, clip, single_pixel)"
   ]
  },
  {
   "cell_type": "code",
   "execution_count": 88,
   "metadata": {},
   "outputs": [
    {
     "data": {
      "text/plain": [
       "0.027406419466892006"
      ]
     },
     "execution_count": 88,
     "metadata": {},
     "output_type": "execute_result"
    }
   ],
   "source": [
    "building_density"
   ]
  },
  {
   "cell_type": "code",
   "execution_count": 32,
   "metadata": {},
   "outputs": [],
   "source": [
    "test_set = paris_df['test'][:10]"
   ]
  },
  {
   "cell_type": "code",
   "execution_count": 89,
   "metadata": {},
   "outputs": [],
   "source": [
    "building_densities = [get_building_coverage(paris_buildings, clip, pixel) for pixel in test_set]"
   ]
  },
  {
   "cell_type": "code",
   "execution_count": 90,
   "metadata": {},
   "outputs": [
    {
     "data": {
      "text/plain": [
       "[0.027406419466892006,\n",
       " 0.09271208456622948,\n",
       " 0.06005162768672451,\n",
       " 0.004278246729816333,\n",
       " 0.01312244811213052,\n",
       " 0.017363859450119708,\n",
       " 0.03459807158376528,\n",
       " 0.010080973420051632,\n",
       " 0.047053275099517414,\n",
       " 0.05453027720990245]"
      ]
     },
     "execution_count": 90,
     "metadata": {},
     "output_type": "execute_result"
    }
   ],
   "source": [
    "building_densities"
   ]
  },
  {
   "cell_type": "code",
   "execution_count": null,
   "metadata": {},
   "outputs": [],
   "source": [
    "[0.027406419466892006,\n",
    " 0.00861925398265395,\n",
    " 0.06005162768672451,\n",
    " 0.004278246729816333,\n",
    " 0.01312244811213052,\n",
    " 0.017363859450119708,\n",
    " 0.03459807158376528,\n",
    " 0.010080973420051632,\n",
    " 0.047053275099517414,\n",
    " 0.05453027720990245]"
   ]
  },
  {
   "cell_type": "code",
   "execution_count": 39,
   "metadata": {},
   "outputs": [],
   "source": [
    "# paris_df['building_density'] = paris_df.test.apply(lambda x : get_building_coverage(paris_buildings, clip, x))"
   ]
  },
  {
   "cell_type": "code",
   "execution_count": 47,
   "metadata": {},
   "outputs": [
    {
     "data": {
      "text/plain": [
       "float"
      ]
     },
     "execution_count": 47,
     "metadata": {},
     "output_type": "execute_result"
    }
   ],
   "source": [
    "type(paris_buildings[0][1][0][0])"
   ]
  },
  {
   "cell_type": "code",
   "execution_count": 46,
   "metadata": {},
   "outputs": [
    {
     "data": {
      "text/plain": [
       "float"
      ]
     },
     "execution_count": 46,
     "metadata": {},
     "output_type": "execute_result"
    }
   ],
   "source": [
    "type(single_pixel[0][0])"
   ]
  },
  {
   "cell_type": "code",
   "execution_count": 36,
   "metadata": {},
   "outputs": [],
   "source": [
    "def get_matching_buildings(buildings, pixel):\n",
    "    local_buildings = []\n",
    "    for building in buildings:\n",
    "        coords = building[1]\n",
    "        for point in coords:\n",
    "            if pixel[0][0] < point[0] < pixel[2][0] and pixel[0][1] < point[1] < pixel[1][1]:\n",
    "                local_buildings.append(building)\n",
    "                continue\n",
    "    return local_buildings"
   ]
  },
  {
   "cell_type": "code",
   "execution_count": null,
   "metadata": {},
   "outputs": [],
   "source": [
    "def get_pixel_polygons(polygons, pixel):\n",
    "    local_polygons = []\n",
    "    for polygon in polygons:\n",
    "        for point in coords:\n",
    "            if is_polygon_inside(polygon, pixel):\n",
    "                local_polygons.append(polygon)\n",
    "                continue\n",
    "            elif is_polygon_point_inside(polygon, pixel):\n",
    "                local_polygons.append(polygon)\n",
    "                continue\n",
    "    return local_polygons"
   ]
  },
  {
   "cell_type": "code",
   "execution_count": 53,
   "metadata": {},
   "outputs": [],
   "source": [
    "matching_buildings = get_matching_buildings(paris_buildings, single_pixel)"
   ]
  },
  {
   "cell_type": "code",
   "execution_count": 37,
   "metadata": {},
   "outputs": [],
   "source": [
    "def split_x_y(coords):\n",
    "    x = []\n",
    "    y = []\n",
    "    for coord in coords:\n",
    "        x.append(coord[0])\n",
    "        y.append(coord[1])\n",
    "    return x, y"
   ]
  },
  {
   "cell_type": "code",
   "execution_count": 38,
   "metadata": {},
   "outputs": [],
   "source": [
    "def plot_buildings_pixel(buildings, pixel):\n",
    "    pixel_returning = pixel.copy()\n",
    "    pixel_returning.append(pixel[0])\n",
    "    x, y = split_x_y(pixel_returning)\n",
    "    plt.plot(x, y)\n",
    "    for building in buildings:\n",
    "        building_coords = building[1]\n",
    "        x, y = split_x_y(building_coords)\n",
    "        plt.plot(x, y)"
   ]
  },
  {
   "cell_type": "code",
   "execution_count": 61,
   "metadata": {},
   "outputs": [],
   "source": [
    "troublesome_pixel = paris_df['test'][1]"
   ]
  },
  {
   "cell_type": "code",
   "execution_count": 62,
   "metadata": {},
   "outputs": [],
   "source": [
    "matching_buildings2 = get_matching_buildings(paris_buildings, single_pixel)"
   ]
  },
  {
   "cell_type": "code",
   "execution_count": 72,
   "metadata": {},
   "outputs": [
    {
     "name": "stdout",
     "output_type": "stream",
     "text": [
      "[2.2633263464873545, 2.2633263464873545, 2.2639559127237074, 2.2639559127237074] [48.81321032181281, 48.813839888049166, 48.813839888049166, 48.81321032181281]\n"
     ]
    }
   ],
   "source": [
    "x, y = split_x_y(single_pixel)\n",
    "x2, y2 = split_x_y(troublesome_pixel)\n",
    "print(x, y)"
   ]
  },
  {
   "cell_type": "code",
   "execution_count": 102,
   "metadata": {},
   "outputs": [
    {
     "data": {
      "image/png": "[encoded data removed]",
      "text/plain": [
       "<Figure size 640x480 with 1 Axes>"
      ]
     },
     "metadata": {},
     "output_type": "display_data"
    }
   ],
   "source": [
    "plot_buildings_pixel(matching_buildings, single_pixel)\n",
    "plot_buildings_pixel(matching_buildings2, troublesome_pixel)"
   ]
  },
  {
   "cell_type": "code",
   "execution_count": null,
   "metadata": {},
   "outputs": [],
   "source": [
    "def visualise_buildings_pixel(pixels, buildings, number, clip):\n",
    "    chosen_pixel = pixels[number]\n",
    "    matching_buidlings = get_matching_buildings(buildings, chosen_pixel)\n",
    "    plot_pixel_and_polygons(matching_buidlings, chosen_pixel)\n",
    "    coverage = get_building_coverage(buildings, clip, chosen_pixel)\n",
    "    plt.title(f\"Building coverage is {round(coverage, 3)}%.\")\n",
    "    plt.show()"
   ]
  },
  {
   "cell_type": "code",
   "execution_count": null,
   "metadata": {},
   "outputs": [],
   "source": [
    "def visualise_landuse_pixel(pixels, landuse_polygons, number, clip):\n",
    "    chosen_pixel = pixels[number]\n",
    "    matching_buidlings = get_matching_buildings(landuse_polygons, chosen_pixel)\n",
    "    plot_pixel_and_polygons(matching_buidlings, chosen_pixel)\n",
    "    coverage = get_landuse_coverage(landuse_polygons, clip, chosen_pixel)\n",
    "    plt.title(f\"Landuse coverage is {round(coverage, 3)}%.\")\n",
    "    plt.show()"
   ]
  },
  {
   "cell_type": "code",
   "execution_count": 90,
   "metadata": {},
   "outputs": [
    {
     "data": {
      "image/png": "[encoded data removed]",
      "text/plain": [
       "<Figure size 640x480 with 1 Axes>"
      ]
     },
     "metadata": {},
     "output_type": "display_data"
    }
   ],
   "source": [
    "test_pixel = paris_df['test'][50]\n",
    "matching_buildings3 = get_matching_buildings(paris_buildings, test_pixel)\n",
    "plot_buildings_pixel(matching_buildings3, test_pixel)\n",
    "building_density = get_building_coverage(paris_buildings, clip, test_pixel)\n",
    "plt.title(f\"Building density of pixel is: {round(building_density, 3)}\")\n",
    "plt.show;"
   ]
  },
  {
   "cell_type": "code",
   "execution_count": 75,
   "metadata": {},
   "outputs": [
    {
     "name": "stdout",
     "output_type": "stream",
     "text": [
      "building area added\n",
      "[[ 2.32628297 48.81321032]\n",
      " [ 2.32628297 48.81325036]\n",
      " [ 2.326299   48.813308  ]\n",
      " [ 2.326421   48.813293  ]\n",
      " [ 2.32641    48.813252  ]\n",
      " [ 2.32659    48.81323   ]\n",
      " [ 2.326597   48.813255  ]\n",
      " [ 2.326725   48.813239  ]\n",
      " [ 2.32671714 48.81321032]]\n",
      "building area added\n",
      "[[ 2.32628297 48.81382072]\n",
      " [ 2.326357   48.81381   ]\n",
      " [ 2.326348   48.813783  ]\n",
      " [ 2.326454   48.813767  ]\n",
      " [ 2.326445   48.813741  ]\n",
      " [ 2.326704   48.813702  ]\n",
      " [ 2.326711   48.813726  ]\n",
      " [ 2.326831   48.813709  ]\n",
      " [ 2.326822   48.813686  ]\n",
      " [ 2.32691254 48.81367177]\n",
      " [ 2.32691254 48.81358364]\n",
      " [ 2.32641    48.813658  ]\n",
      " [ 2.326414   48.813669  ]\n",
      " [ 2.326362   48.813677  ]\n",
      " [ 2.326314   48.813684  ]\n",
      " [ 2.32631    48.813672  ]\n",
      " [ 2.32628297 48.81367586]]\n",
      "building area added\n",
      "The separate areas are [1.7385000000503564e-09, 2.1750947623159142e-08, 6.3790826022354e-08]\n",
      "the total built area is8.72802736455635e-08\n",
      "the proportional area is 0.22020807563097083\n"
     ]
    },
    {
     "data": {
      "text/plain": [
       "0.22020807563097083"
      ]
     },
     "execution_count": 75,
     "metadata": {},
     "output_type": "execute_result"
    }
   ],
   "source": [
    "get_building_coverage(paris_buildings, clip, test_pixel)"
   ]
  },
  {
   "cell_type": "code",
   "execution_count": 54,
   "metadata": {},
   "outputs": [],
   "source": [
    "crossing_buildings = []\n",
    "for building in paris_buildings:\n",
    "    building_coords = building[1]\n",
    "    if is_point_inside(building_coords, test_pixel) and not is_building_inside(building_coords, test_pixel):\n",
    "        crossing_buildings.append(building_coords)"
   ]
  },
  {
   "cell_type": "code",
   "execution_count": 62,
   "metadata": {},
   "outputs": [
    {
     "data": {
      "text/plain": [
       "[[2.326425, 48.813118],\n",
       " [2.326429, 48.813131],\n",
       " [2.326379, 48.813137],\n",
       " [2.326374, 48.813124],\n",
       " [2.326252, 48.813139],\n",
       " [2.326299, 48.813308],\n",
       " [2.326421, 48.813293],\n",
       " [2.32641, 48.813252],\n",
       " [2.32659, 48.81323],\n",
       " [2.326597, 48.813255],\n",
       " [2.326725, 48.813239],\n",
       " [2.326708, 48.813177],\n",
       " [2.326699, 48.813178],\n",
       " [2.326694, 48.813159],\n",
       " [2.32676, 48.813151],\n",
       " [2.326728, 48.81303],\n",
       " [2.326412, 48.813067],\n",
       " [2.326425, 48.813118]]"
      ]
     },
     "execution_count": 62,
     "metadata": {},
     "output_type": "execute_result"
    }
   ],
   "source": [
    "first"
   ]
  },
  {
   "cell_type": "code",
   "execution_count": 78,
   "metadata": {},
   "outputs": [
    {
     "name": "stdout",
     "output_type": "stream",
     "text": [
      "[[ 2.32628297 48.81321032]\n",
      " [ 2.32628297 48.81325036]\n",
      " [ 2.326299   48.813308  ]\n",
      " [ 2.326421   48.813293  ]\n",
      " [ 2.32641    48.813252  ]\n",
      " [ 2.32659    48.81323   ]\n",
      " [ 2.326597   48.813255  ]\n",
      " [ 2.326725   48.813239  ]\n",
      " [ 2.32671714 48.81321032]]\n"
     ]
    }
   ],
   "source": [
    "first = crossing_buildings[0]\n",
    "area_first_test = get_building_clipped_area(first, clip, test_pixel)\n"
   ]
  },
  {
   "cell_type": "code",
   "execution_count": 65,
   "metadata": {},
   "outputs": [
    {
     "data": {
      "image/png": "[encoded data removed]",
      "text/plain": [
       "<Figure size 640x480 with 1 Axes>"
      ]
     },
     "metadata": {},
     "output_type": "display_data"
    }
   ],
   "source": [
    "xs, ys = split_x_y(first)\n",
    "fig, ax = plt.subplots()\n",
    "ax.plot(xs, ys)\n",
    "for i in range(len(xs)):\n",
    "    ax.annotate(i, (xs[i], ys[i]))\n",
    "plt.show;\n"
   ]
  },
  {
   "cell_type": "code",
   "execution_count": 89,
   "metadata": {},
   "outputs": [
    {
     "ename": "IndexError",
     "evalue": "list index out of range",
     "output_type": "error",
     "traceback": [
      "\u001b[0;31m---------------------------------------------------------------------------\u001b[0m",
      "\u001b[0;31mIndexError\u001b[0m                                Traceback (most recent call last)",
      "Cell \u001b[0;32mIn[89], line 1\u001b[0m\n\u001b[0;32m----> 1\u001b[0m test_pixel\u001b[39m.\u001b[39mappend(test_pixel[\u001b[39m50\u001b[39;49m])\n\u001b[1;32m      2\u001b[0m x_pixel, y_pixel \u001b[39m=\u001b[39m split_x_y(test_pixel)\n\u001b[1;32m      3\u001b[0m fig, ax \u001b[39m=\u001b[39m plt\u001b[39m.\u001b[39msubplots()\n",
      "\u001b[0;31mIndexError\u001b[0m: list index out of range"
     ]
    }
   ],
   "source": [
    "test_pixel.append(test_pixel[50])\n",
    "x_pixel, y_pixel = split_x_y(test_pixel)\n",
    "fig, ax = plt.subplots()\n",
    "ax.plot(x_pixel, y_pixel)\n",
    "for i in range(len(x_pixel)):\n",
    "    ax.annotate(i, (x_pixel[i], y_pixel[i]))\n",
    "plt.show;"
   ]
  },
  {
   "cell_type": "code",
   "execution_count": 71,
   "metadata": {},
   "outputs": [
    {
     "name": "stdout",
     "output_type": "stream",
     "text": [
      "[[ 2.32628297 48.81321032]\n",
      " [ 2.32628297 48.81325036]\n",
      " [ 2.326299   48.813308  ]\n",
      " [ 2.326421   48.813293  ]\n",
      " [ 2.32641    48.813252  ]\n",
      " [ 2.32659    48.81323   ]\n",
      " [ 2.326597   48.813255  ]\n",
      " [ 2.326725   48.813239  ]\n",
      " [ 2.32671714 48.81321032]]\n"
     ]
    }
   ],
   "source": [
    "clip = PolygonClipper(warn_if_empty=True)\n",
    "clipped = clip(first, test_pixel[:-1])\n",
    "print(clipped)"
   ]
  },
  {
   "cell_type": "code",
   "execution_count": 105,
   "metadata": {},
   "outputs": [],
   "source": [
    "# paris_df['building_density'] = paris_df['test'].apply(lambda x: get_building_coverage(paris_buildings, clip, x))"
   ]
  }
 ],
 "metadata": {
  "kernelspec": {
   "display_name": "Python 3.10.6 64-bit ('future_proofing_cities')",
   "language": "python",
   "name": "python3"
  },
  "language_info": {
   "codemirror_mode": {
    "name": "ipython",
    "version": 3
   },
   "file_extension": ".py",
   "mimetype": "text/x-python",
   "name": "python",
   "nbconvert_exporter": "python",
   "pygments_lexer": "ipython3",
   "version": "3.10.6"
  },
  "orig_nbformat": 4,
  "vscode": {
   "interpreter": {
    "hash": "0074166b104725c523b8868ab41b8fc8117b4c3f934723be5b4b5a4e23a08e07"
   }
  }
 },
 "nbformat": 4,
 "nbformat_minor": 2
}
