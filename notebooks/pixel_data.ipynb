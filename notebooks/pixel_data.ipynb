{
 "cells": [
  {
   "cell_type": "code",
   "execution_count": 1,
   "metadata": {},
   "outputs": [],
   "source": [
    "from modules.building_data import get_tile, osmbuildings_request, receive_building_data, polyarea, get_tile, tile_bbox"
   ]
  },
  {
   "cell_type": "code",
   "execution_count": 2,
   "metadata": {},
   "outputs": [],
   "source": [
    "from modules.building_data import get_all_tiles, get_all_tile_jsons, get_tiles"
   ]
  },
  {
   "cell_type": "code",
   "execution_count": 3,
   "metadata": {},
   "outputs": [],
   "source": [
    "%load_ext autoreload\n",
    "%autoreload 2"
   ]
  },
  {
   "cell_type": "code",
   "execution_count": 4,
   "metadata": {},
   "outputs": [],
   "source": [
    "import numpy as np\n",
    "import matplotlib.pyplot as plt\n",
    "import mpmath as mp\n",
    "import requests\n",
    "import pandas as pd\n",
    "import warnings\n",
    "from shapely.geometry import Polygon\n",
    "from modules.polygon_intersections import PolygonClipper\n",
    "from ast import literal_eval"
   ]
  },
  {
   "cell_type": "code",
   "execution_count": 5,
   "metadata": {},
   "outputs": [],
   "source": [
    "paris_df = pd.read_csv(\"../data/processed_data/Paris/Paris.csv\")"
   ]
  },
  {
   "cell_type": "code",
   "execution_count": 6,
   "metadata": {},
   "outputs": [
    {
     "data": {
      "text/html": [
       "<div>\n",
       "<style scoped>\n",
       "    .dataframe tbody tr th:only-of-type {\n",
       "        vertical-align: middle;\n",
       "    }\n",
       "\n",
       "    .dataframe tbody tr th {\n",
       "        vertical-align: top;\n",
       "    }\n",
       "\n",
       "    .dataframe thead th {\n",
       "        text-align: right;\n",
       "    }\n",
       "</style>\n",
       "<table border=\"1\" class=\"dataframe\">\n",
       "  <thead>\n",
       "    <tr style=\"text-align: right;\">\n",
       "      <th></th>\n",
       "      <th>LST</th>\n",
       "      <th>ele</th>\n",
       "      <th>LST_diff</th>\n",
       "      <th>ele_diff</th>\n",
       "      <th>ul_corner</th>\n",
       "      <th>ll_corner</th>\n",
       "      <th>lr_corner</th>\n",
       "      <th>ur_corner</th>\n",
       "      <th>bb</th>\n",
       "    </tr>\n",
       "  </thead>\n",
       "  <tbody>\n",
       "    <tr>\n",
       "      <th>0</th>\n",
       "      <td>28.489990</td>\n",
       "      <td>45.577310</td>\n",
       "      <td>-2.315979</td>\n",
       "      <td>-28.184334</td>\n",
       "      <td>[[2.2633263464873545, 48.81321032181281]]</td>\n",
       "      <td>[[2.2633263464873545, 48.813839888049166]]</td>\n",
       "      <td>[[2.2639559127237074, 48.813839888049166]]</td>\n",
       "      <td>[[2.2639559127237074, 48.81321032181281]]</td>\n",
       "      <td>[[2.2633263464873545, 48.81321032181281], [2.2...</td>\n",
       "    </tr>\n",
       "    <tr>\n",
       "      <th>1</th>\n",
       "      <td>28.549988</td>\n",
       "      <td>45.577430</td>\n",
       "      <td>-2.255981</td>\n",
       "      <td>-28.184212</td>\n",
       "      <td>[[2.2639559127237074, 48.81321032181281]]</td>\n",
       "      <td>[[2.2639559127237074, 48.813839888049166]]</td>\n",
       "      <td>[[2.2645854789600603, 48.813839888049166]]</td>\n",
       "      <td>[[2.2645854789600603, 48.81321032181281]]</td>\n",
       "      <td>[[2.2639559127237074, 48.81321032181281], [2.2...</td>\n",
       "    </tr>\n",
       "    <tr>\n",
       "      <th>2</th>\n",
       "      <td>28.450012</td>\n",
       "      <td>46.947140</td>\n",
       "      <td>-2.355957</td>\n",
       "      <td>-26.814503</td>\n",
       "      <td>[[2.2645854789600603, 48.81321032181281]]</td>\n",
       "      <td>[[2.2645854789600603, 48.813839888049166]]</td>\n",
       "      <td>[[2.2652150451964133, 48.813839888049166]]</td>\n",
       "      <td>[[2.2652150451964133, 48.81321032181281]]</td>\n",
       "      <td>[[2.2645854789600603, 48.81321032181281], [2.2...</td>\n",
       "    </tr>\n",
       "    <tr>\n",
       "      <th>3</th>\n",
       "      <td>29.230011</td>\n",
       "      <td>48.411680</td>\n",
       "      <td>-1.575958</td>\n",
       "      <td>-25.349964</td>\n",
       "      <td>[[2.2652150451964133, 48.81321032181281]]</td>\n",
       "      <td>[[2.2652150451964133, 48.813839888049166]]</td>\n",
       "      <td>[[2.265844611432766, 48.813839888049166]]</td>\n",
       "      <td>[[2.265844611432766, 48.81321032181281]]</td>\n",
       "      <td>[[2.2652150451964133, 48.81321032181281], [2.2...</td>\n",
       "    </tr>\n",
       "    <tr>\n",
       "      <th>4</th>\n",
       "      <td>27.889984</td>\n",
       "      <td>48.643574</td>\n",
       "      <td>-2.915985</td>\n",
       "      <td>-25.118069</td>\n",
       "      <td>[[2.265844611432766, 48.81321032181281]]</td>\n",
       "      <td>[[2.265844611432766, 48.813839888049166]]</td>\n",
       "      <td>[[2.266474177669119, 48.813839888049166]]</td>\n",
       "      <td>[[2.266474177669119, 48.81321032181281]]</td>\n",
       "      <td>[[2.265844611432766, 48.81321032181281], [2.26...</td>\n",
       "    </tr>\n",
       "  </tbody>\n",
       "</table>\n",
       "</div>"
      ],
      "text/plain": [
       "         LST        ele  LST_diff   ele_diff  \\\n",
       "0  28.489990  45.577310 -2.315979 -28.184334   \n",
       "1  28.549988  45.577430 -2.255981 -28.184212   \n",
       "2  28.450012  46.947140 -2.355957 -26.814503   \n",
       "3  29.230011  48.411680 -1.575958 -25.349964   \n",
       "4  27.889984  48.643574 -2.915985 -25.118069   \n",
       "\n",
       "                                   ul_corner  \\\n",
       "0  [[2.2633263464873545, 48.81321032181281]]   \n",
       "1  [[2.2639559127237074, 48.81321032181281]]   \n",
       "2  [[2.2645854789600603, 48.81321032181281]]   \n",
       "3  [[2.2652150451964133, 48.81321032181281]]   \n",
       "4   [[2.265844611432766, 48.81321032181281]]   \n",
       "\n",
       "                                    ll_corner  \\\n",
       "0  [[2.2633263464873545, 48.813839888049166]]   \n",
       "1  [[2.2639559127237074, 48.813839888049166]]   \n",
       "2  [[2.2645854789600603, 48.813839888049166]]   \n",
       "3  [[2.2652150451964133, 48.813839888049166]]   \n",
       "4   [[2.265844611432766, 48.813839888049166]]   \n",
       "\n",
       "                                    lr_corner  \\\n",
       "0  [[2.2639559127237074, 48.813839888049166]]   \n",
       "1  [[2.2645854789600603, 48.813839888049166]]   \n",
       "2  [[2.2652150451964133, 48.813839888049166]]   \n",
       "3   [[2.265844611432766, 48.813839888049166]]   \n",
       "4   [[2.266474177669119, 48.813839888049166]]   \n",
       "\n",
       "                                   ur_corner  \\\n",
       "0  [[2.2639559127237074, 48.81321032181281]]   \n",
       "1  [[2.2645854789600603, 48.81321032181281]]   \n",
       "2  [[2.2652150451964133, 48.81321032181281]]   \n",
       "3   [[2.265844611432766, 48.81321032181281]]   \n",
       "4   [[2.266474177669119, 48.81321032181281]]   \n",
       "\n",
       "                                                  bb  \n",
       "0  [[2.2633263464873545, 48.81321032181281], [2.2...  \n",
       "1  [[2.2639559127237074, 48.81321032181281], [2.2...  \n",
       "2  [[2.2645854789600603, 48.81321032181281], [2.2...  \n",
       "3  [[2.2652150451964133, 48.81321032181281], [2.2...  \n",
       "4  [[2.265844611432766, 48.81321032181281], [2.26...  "
      ]
     },
     "execution_count": 6,
     "metadata": {},
     "output_type": "execute_result"
    }
   ],
   "source": [
    "paris_df.head()"
   ]
  },
  {
   "cell_type": "code",
   "execution_count": 7,
   "metadata": {},
   "outputs": [],
   "source": [
    "paris_df['test'] = paris_df['bb'].copy()"
   ]
  },
  {
   "cell_type": "code",
   "execution_count": 8,
   "metadata": {},
   "outputs": [],
   "source": [
    "paris_df['test'] = paris_df.test.apply(literal_eval)"
   ]
  },
  {
   "cell_type": "code",
   "execution_count": 9,
   "metadata": {},
   "outputs": [
    {
     "data": {
      "text/plain": [
       "list"
      ]
     },
     "execution_count": 9,
     "metadata": {},
     "output_type": "execute_result"
    }
   ],
   "source": [
    "type(paris_df.test[0])"
   ]
  },
  {
   "cell_type": "code",
   "execution_count": null,
   "metadata": {},
   "outputs": [],
   "source": [
    "# paris_df.bb.apply(lambda x: x.)"
   ]
  },
  {
   "cell_type": "code",
   "execution_count": null,
   "metadata": {},
   "outputs": [],
   "source": [
    "# paris_df['test'] = paris_df['test'].replace('[]', '')"
   ]
  },
  {
   "cell_type": "code",
   "execution_count": null,
   "metadata": {},
   "outputs": [],
   "source": [
    "# paris_df.bb.apply(lambda x: x.)"
   ]
  },
  {
   "cell_type": "code",
   "execution_count": 10,
   "metadata": {},
   "outputs": [],
   "source": [
    "clip = PolygonClipper(warn_if_empty=False)"
   ]
  },
  {
   "cell_type": "code",
   "execution_count": 11,
   "metadata": {},
   "outputs": [],
   "source": [
    "def get_building_clipped_area(building, clip, pixel):\n",
    "    building_coords = building[1]\n",
    "    clipped = clip(pixel, building_coords)\n",
    "    pgon = Polygon(clipped)\n",
    "    return pgon.area"
   ]
  },
  {
   "cell_type": "code",
   "execution_count": 12,
   "metadata": {},
   "outputs": [],
   "source": [
    "def get_building_coverage(buildings, clip, pixel):\n",
    "    separate_areas = []\n",
    "    for building in buildings:\n",
    "        try:\n",
    "            separate_areas.append(get_building_clipped_area(building, clip, pixel))\n",
    "        except:\n",
    "            continue\n",
    "    total_area = np.sum(separate_areas)\n",
    "    pixel_poly = Polygon(pixel)\n",
    "    pixel_area = pixel_poly.area\n",
    "    prop_area_built = total_area/pixel_area\n",
    "    return prop_area_built"
   ]
  },
  {
   "cell_type": "code",
   "execution_count": 13,
   "metadata": {},
   "outputs": [],
   "source": [
    "paris_coords = {'upper_left': [48.813898, 2.264216],\n",
    "                'lower_right': [48.900502, 2.42172]}"
   ]
  },
  {
   "cell_type": "code",
   "execution_count": 14,
   "metadata": {},
   "outputs": [
    {
     "name": "stdout",
     "output_type": "stream",
     "text": [
      "URL: https://data.osmbuildings.org/0.2/anonymous/tile/15/16590/11279.json\n",
      "URL: https://data.osmbuildings.org/0.2/anonymous/tile/15/16590/11280.json\n",
      "URL: https://data.osmbuildings.org/0.2/anonymous/tile/15/16590/11281.json\n",
      "URL: https://data.osmbuildings.org/0.2/anonymous/tile/15/16590/11282.json\n",
      "URL: https://data.osmbuildings.org/0.2/anonymous/tile/15/16590/11283.json\n",
      "URL: https://data.osmbuildings.org/0.2/anonymous/tile/15/16590/11284.json\n",
      "URL: https://data.osmbuildings.org/0.2/anonymous/tile/15/16590/11285.json\n",
      "URL: https://data.osmbuildings.org/0.2/anonymous/tile/15/16590/11286.json\n",
      "URL: https://data.osmbuildings.org/0.2/anonymous/tile/15/16590/11287.json\n",
      "URL: https://data.osmbuildings.org/0.2/anonymous/tile/15/16590/11288.json\n",
      "URL: https://data.osmbuildings.org/0.2/anonymous/tile/15/16590/11289.json\n",
      "URL: https://data.osmbuildings.org/0.2/anonymous/tile/15/16591/11279.json\n",
      "URL: https://data.osmbuildings.org/0.2/anonymous/tile/15/16591/11280.json\n",
      "URL: https://data.osmbuildings.org/0.2/anonymous/tile/15/16591/11281.json\n",
      "URL: https://data.osmbuildings.org/0.2/anonymous/tile/15/16591/11282.json\n",
      "URL: https://data.osmbuildings.org/0.2/anonymous/tile/15/16591/11283.json\n",
      "URL: https://data.osmbuildings.org/0.2/anonymous/tile/15/16591/11284.json\n",
      "URL: https://data.osmbuildings.org/0.2/anonymous/tile/15/16591/11285.json\n",
      "URL: https://data.osmbuildings.org/0.2/anonymous/tile/15/16591/11286.json\n",
      "URL: https://data.osmbuildings.org/0.2/anonymous/tile/15/16591/11287.json\n",
      "URL: https://data.osmbuildings.org/0.2/anonymous/tile/15/16591/11288.json\n",
      "URL: https://data.osmbuildings.org/0.2/anonymous/tile/15/16591/11289.json\n",
      "URL: https://data.osmbuildings.org/0.2/anonymous/tile/15/16592/11279.json\n",
      "URL: https://data.osmbuildings.org/0.2/anonymous/tile/15/16592/11280.json\n",
      "URL: https://data.osmbuildings.org/0.2/anonymous/tile/15/16592/11281.json\n",
      "URL: https://data.osmbuildings.org/0.2/anonymous/tile/15/16592/11282.json\n",
      "URL: https://data.osmbuildings.org/0.2/anonymous/tile/15/16592/11283.json\n",
      "URL: https://data.osmbuildings.org/0.2/anonymous/tile/15/16592/11284.json\n",
      "URL: https://data.osmbuildings.org/0.2/anonymous/tile/15/16592/11285.json\n",
      "URL: https://data.osmbuildings.org/0.2/anonymous/tile/15/16592/11286.json\n",
      "URL: https://data.osmbuildings.org/0.2/anonymous/tile/15/16592/11287.json\n",
      "URL: https://data.osmbuildings.org/0.2/anonymous/tile/15/16592/11288.json\n",
      "URL: https://data.osmbuildings.org/0.2/anonymous/tile/15/16592/11289.json\n",
      "URL: https://data.osmbuildings.org/0.2/anonymous/tile/15/16593/11279.json\n",
      "URL: https://data.osmbuildings.org/0.2/anonymous/tile/15/16593/11280.json\n",
      "URL: https://data.osmbuildings.org/0.2/anonymous/tile/15/16593/11281.json\n",
      "URL: https://data.osmbuildings.org/0.2/anonymous/tile/15/16593/11282.json\n",
      "URL: https://data.osmbuildings.org/0.2/anonymous/tile/15/16593/11283.json\n",
      "URL: https://data.osmbuildings.org/0.2/anonymous/tile/15/16593/11284.json\n",
      "URL: https://data.osmbuildings.org/0.2/anonymous/tile/15/16593/11285.json\n",
      "URL: https://data.osmbuildings.org/0.2/anonymous/tile/15/16593/11286.json\n",
      "URL: https://data.osmbuildings.org/0.2/anonymous/tile/15/16593/11287.json\n",
      "URL: https://data.osmbuildings.org/0.2/anonymous/tile/15/16593/11288.json\n",
      "URL: https://data.osmbuildings.org/0.2/anonymous/tile/15/16593/11289.json\n",
      "URL: https://data.osmbuildings.org/0.2/anonymous/tile/15/16594/11279.json\n",
      "URL: https://data.osmbuildings.org/0.2/anonymous/tile/15/16594/11280.json\n",
      "URL: https://data.osmbuildings.org/0.2/anonymous/tile/15/16594/11281.json\n",
      "URL: https://data.osmbuildings.org/0.2/anonymous/tile/15/16594/11282.json\n",
      "URL: https://data.osmbuildings.org/0.2/anonymous/tile/15/16594/11283.json\n",
      "URL: https://data.osmbuildings.org/0.2/anonymous/tile/15/16594/11284.json\n",
      "URL: https://data.osmbuildings.org/0.2/anonymous/tile/15/16594/11285.json\n",
      "URL: https://data.osmbuildings.org/0.2/anonymous/tile/15/16594/11286.json\n",
      "URL: https://data.osmbuildings.org/0.2/anonymous/tile/15/16594/11287.json\n",
      "URL: https://data.osmbuildings.org/0.2/anonymous/tile/15/16594/11288.json\n",
      "URL: https://data.osmbuildings.org/0.2/anonymous/tile/15/16594/11289.json\n",
      "URL: https://data.osmbuildings.org/0.2/anonymous/tile/15/16595/11279.json\n",
      "URL: https://data.osmbuildings.org/0.2/anonymous/tile/15/16595/11280.json\n",
      "URL: https://data.osmbuildings.org/0.2/anonymous/tile/15/16595/11281.json\n",
      "URL: https://data.osmbuildings.org/0.2/anonymous/tile/15/16595/11282.json\n",
      "URL: https://data.osmbuildings.org/0.2/anonymous/tile/15/16595/11283.json\n",
      "URL: https://data.osmbuildings.org/0.2/anonymous/tile/15/16595/11284.json\n",
      "URL: https://data.osmbuildings.org/0.2/anonymous/tile/15/16595/11285.json\n",
      "URL: https://data.osmbuildings.org/0.2/anonymous/tile/15/16595/11286.json\n",
      "URL: https://data.osmbuildings.org/0.2/anonymous/tile/15/16595/11287.json\n",
      "URL: https://data.osmbuildings.org/0.2/anonymous/tile/15/16595/11288.json\n",
      "URL: https://data.osmbuildings.org/0.2/anonymous/tile/15/16595/11289.json\n",
      "URL: https://data.osmbuildings.org/0.2/anonymous/tile/15/16596/11279.json\n",
      "URL: https://data.osmbuildings.org/0.2/anonymous/tile/15/16596/11280.json\n",
      "URL: https://data.osmbuildings.org/0.2/anonymous/tile/15/16596/11281.json\n",
      "URL: https://data.osmbuildings.org/0.2/anonymous/tile/15/16596/11282.json\n",
      "URL: https://data.osmbuildings.org/0.2/anonymous/tile/15/16596/11283.json\n",
      "URL: https://data.osmbuildings.org/0.2/anonymous/tile/15/16596/11284.json\n",
      "URL: https://data.osmbuildings.org/0.2/anonymous/tile/15/16596/11285.json\n",
      "URL: https://data.osmbuildings.org/0.2/anonymous/tile/15/16596/11286.json\n",
      "URL: https://data.osmbuildings.org/0.2/anonymous/tile/15/16596/11287.json\n",
      "URL: https://data.osmbuildings.org/0.2/anonymous/tile/15/16596/11288.json\n",
      "URL: https://data.osmbuildings.org/0.2/anonymous/tile/15/16596/11289.json\n",
      "URL: https://data.osmbuildings.org/0.2/anonymous/tile/15/16597/11279.json\n",
      "URL: https://data.osmbuildings.org/0.2/anonymous/tile/15/16597/11280.json\n",
      "URL: https://data.osmbuildings.org/0.2/anonymous/tile/15/16597/11281.json\n",
      "URL: https://data.osmbuildings.org/0.2/anonymous/tile/15/16597/11282.json\n",
      "URL: https://data.osmbuildings.org/0.2/anonymous/tile/15/16597/11283.json\n",
      "URL: https://data.osmbuildings.org/0.2/anonymous/tile/15/16597/11284.json\n",
      "URL: https://data.osmbuildings.org/0.2/anonymous/tile/15/16597/11285.json\n",
      "URL: https://data.osmbuildings.org/0.2/anonymous/tile/15/16597/11286.json\n",
      "URL: https://data.osmbuildings.org/0.2/anonymous/tile/15/16597/11287.json\n",
      "URL: https://data.osmbuildings.org/0.2/anonymous/tile/15/16597/11288.json\n",
      "URL: https://data.osmbuildings.org/0.2/anonymous/tile/15/16597/11289.json\n",
      "URL: https://data.osmbuildings.org/0.2/anonymous/tile/15/16598/11279.json\n",
      "URL: https://data.osmbuildings.org/0.2/anonymous/tile/15/16598/11280.json\n",
      "URL: https://data.osmbuildings.org/0.2/anonymous/tile/15/16598/11281.json\n",
      "URL: https://data.osmbuildings.org/0.2/anonymous/tile/15/16598/11282.json\n",
      "URL: https://data.osmbuildings.org/0.2/anonymous/tile/15/16598/11283.json\n",
      "URL: https://data.osmbuildings.org/0.2/anonymous/tile/15/16598/11284.json\n",
      "URL: https://data.osmbuildings.org/0.2/anonymous/tile/15/16598/11285.json\n",
      "URL: https://data.osmbuildings.org/0.2/anonymous/tile/15/16598/11286.json\n",
      "URL: https://data.osmbuildings.org/0.2/anonymous/tile/15/16598/11287.json\n",
      "URL: https://data.osmbuildings.org/0.2/anonymous/tile/15/16598/11288.json\n",
      "URL: https://data.osmbuildings.org/0.2/anonymous/tile/15/16598/11289.json\n",
      "URL: https://data.osmbuildings.org/0.2/anonymous/tile/15/16599/11279.json\n",
      "URL: https://data.osmbuildings.org/0.2/anonymous/tile/15/16599/11280.json\n",
      "URL: https://data.osmbuildings.org/0.2/anonymous/tile/15/16599/11281.json\n",
      "URL: https://data.osmbuildings.org/0.2/anonymous/tile/15/16599/11282.json\n",
      "URL: https://data.osmbuildings.org/0.2/anonymous/tile/15/16599/11283.json\n",
      "URL: https://data.osmbuildings.org/0.2/anonymous/tile/15/16599/11284.json\n",
      "URL: https://data.osmbuildings.org/0.2/anonymous/tile/15/16599/11285.json\n",
      "URL: https://data.osmbuildings.org/0.2/anonymous/tile/15/16599/11286.json\n",
      "URL: https://data.osmbuildings.org/0.2/anonymous/tile/15/16599/11287.json\n",
      "URL: https://data.osmbuildings.org/0.2/anonymous/tile/15/16599/11288.json\n",
      "URL: https://data.osmbuildings.org/0.2/anonymous/tile/15/16599/11289.json\n",
      "URL: https://data.osmbuildings.org/0.2/anonymous/tile/15/16600/11279.json\n",
      "URL: https://data.osmbuildings.org/0.2/anonymous/tile/15/16600/11280.json\n",
      "URL: https://data.osmbuildings.org/0.2/anonymous/tile/15/16600/11281.json\n",
      "URL: https://data.osmbuildings.org/0.2/anonymous/tile/15/16600/11282.json\n",
      "URL: https://data.osmbuildings.org/0.2/anonymous/tile/15/16600/11283.json\n",
      "URL: https://data.osmbuildings.org/0.2/anonymous/tile/15/16600/11284.json\n",
      "URL: https://data.osmbuildings.org/0.2/anonymous/tile/15/16600/11285.json\n",
      "URL: https://data.osmbuildings.org/0.2/anonymous/tile/15/16600/11286.json\n",
      "URL: https://data.osmbuildings.org/0.2/anonymous/tile/15/16600/11287.json\n",
      "URL: https://data.osmbuildings.org/0.2/anonymous/tile/15/16600/11288.json\n",
      "URL: https://data.osmbuildings.org/0.2/anonymous/tile/15/16600/11289.json\n",
      "URL: https://data.osmbuildings.org/0.2/anonymous/tile/15/16601/11279.json\n",
      "URL: https://data.osmbuildings.org/0.2/anonymous/tile/15/16601/11280.json\n",
      "URL: https://data.osmbuildings.org/0.2/anonymous/tile/15/16601/11281.json\n",
      "URL: https://data.osmbuildings.org/0.2/anonymous/tile/15/16601/11282.json\n",
      "URL: https://data.osmbuildings.org/0.2/anonymous/tile/15/16601/11283.json\n",
      "URL: https://data.osmbuildings.org/0.2/anonymous/tile/15/16601/11284.json\n",
      "URL: https://data.osmbuildings.org/0.2/anonymous/tile/15/16601/11285.json\n",
      "URL: https://data.osmbuildings.org/0.2/anonymous/tile/15/16601/11286.json\n",
      "URL: https://data.osmbuildings.org/0.2/anonymous/tile/15/16601/11287.json\n",
      "URL: https://data.osmbuildings.org/0.2/anonymous/tile/15/16601/11288.json\n",
      "URL: https://data.osmbuildings.org/0.2/anonymous/tile/15/16601/11289.json\n",
      "URL: https://data.osmbuildings.org/0.2/anonymous/tile/15/16602/11279.json\n",
      "URL: https://data.osmbuildings.org/0.2/anonymous/tile/15/16602/11280.json\n",
      "URL: https://data.osmbuildings.org/0.2/anonymous/tile/15/16602/11281.json\n",
      "URL: https://data.osmbuildings.org/0.2/anonymous/tile/15/16602/11282.json\n",
      "URL: https://data.osmbuildings.org/0.2/anonymous/tile/15/16602/11283.json\n",
      "URL: https://data.osmbuildings.org/0.2/anonymous/tile/15/16602/11284.json\n",
      "URL: https://data.osmbuildings.org/0.2/anonymous/tile/15/16602/11285.json\n",
      "URL: https://data.osmbuildings.org/0.2/anonymous/tile/15/16602/11286.json\n",
      "URL: https://data.osmbuildings.org/0.2/anonymous/tile/15/16602/11287.json\n",
      "URL: https://data.osmbuildings.org/0.2/anonymous/tile/15/16602/11288.json\n",
      "URL: https://data.osmbuildings.org/0.2/anonymous/tile/15/16602/11289.json\n"
     ]
    }
   ],
   "source": [
    "paris_tiles = get_tiles(paris_coords)\n",
    "paris_x_tiles, paris_y_tiles = get_all_tiles(paris_coords, paris_tiles)\n",
    "paris_jsons = get_all_tile_jsons(paris_x_tiles, paris_y_tiles)\n",
    "paris_buildings = receive_building_data(paris_jsons)"
   ]
  },
  {
   "cell_type": "code",
   "execution_count": 15,
   "metadata": {},
   "outputs": [
    {
     "data": {
      "text/plain": [
       "[3,\n",
       " [[2.264284, 48.80854],\n",
       "  [2.264271, 48.808532],\n",
       "  [2.264219, 48.808564],\n",
       "  [2.264237, 48.808584],\n",
       "  [2.264256, 48.808572],\n",
       "  [2.264245, 48.808564],\n",
       "  [2.264284, 48.80854]]]"
      ]
     },
     "execution_count": 15,
     "metadata": {},
     "output_type": "execute_result"
    }
   ],
   "source": [
    "paris_buildings[0]"
   ]
  },
  {
   "cell_type": "code",
   "execution_count": 16,
   "metadata": {},
   "outputs": [],
   "source": [
    "single_pixel = paris_df['test'][0]"
   ]
  },
  {
   "cell_type": "code",
   "execution_count": 17,
   "metadata": {},
   "outputs": [
    {
     "data": {
      "text/plain": [
       "[[2.2633263464873545, 48.81321032181281],\n",
       " [2.2633263464873545, 48.813839888049166],\n",
       " [2.2639559127237074, 48.813839888049166],\n",
       " [2.2639559127237074, 48.81321032181281]]"
      ]
     },
     "execution_count": 17,
     "metadata": {},
     "output_type": "execute_result"
    }
   ],
   "source": [
    "single_pixel"
   ]
  },
  {
   "cell_type": "code",
   "execution_count": 29,
   "metadata": {},
   "outputs": [
    {
     "name": "stdout",
     "output_type": "stream",
     "text": [
      "CPU times: user 2.92 s, sys: 0 ns, total: 2.92 s\n",
      "Wall time: 2.91 s\n"
     ]
    }
   ],
   "source": [
    "building_density = get_building_coverage(paris_buildings, clip, single_pixel)"
   ]
  },
  {
   "cell_type": "code",
   "execution_count": 30,
   "metadata": {},
   "outputs": [
    {
     "data": {
      "text/plain": [
       "0.027406419466892006"
      ]
     },
     "execution_count": 30,
     "metadata": {},
     "output_type": "execute_result"
    }
   ],
   "source": [
    "building_density"
   ]
  },
  {
   "cell_type": "code",
   "execution_count": 20,
   "metadata": {},
   "outputs": [],
   "source": [
    "test_set = paris_df['test'][:10]"
   ]
  },
  {
   "cell_type": "code",
   "execution_count": 25,
   "metadata": {},
   "outputs": [],
   "source": [
    "building_densities = [get_building_coverage(paris_buildings, clip, pixel) for pixel in test_set]"
   ]
  },
  {
   "cell_type": "code",
   "execution_count": 26,
   "metadata": {},
   "outputs": [
    {
     "data": {
      "text/plain": [
       "[0.027406419466892006,\n",
       " 0.00861925398265395,\n",
       " 0.06005162768672451,\n",
       " 0.004278246729816333,\n",
       " 0.01312244811213052,\n",
       " 0.017363859450119708,\n",
       " 0.03459807158376528,\n",
       " 0.010080973420051632,\n",
       " 0.047053275099517414,\n",
       " 0.05453027720990245]"
      ]
     },
     "execution_count": 26,
     "metadata": {},
     "output_type": "execute_result"
    }
   ],
   "source": [
    "building_densities"
   ]
  },
  {
   "cell_type": "code",
   "execution_count": 39,
   "metadata": {},
   "outputs": [],
   "source": [
    "# paris_df['building_density'] = paris_df.test.apply(lambda x : get_building_coverage(paris_buildings, clip, x))"
   ]
  },
  {
   "cell_type": "code",
   "execution_count": null,
   "metadata": {},
   "outputs": [],
   "source": [
    "# paris_df['building_density'].value_counts()"
   ]
  },
  {
   "cell_type": "code",
   "execution_count": null,
   "metadata": {},
   "outputs": [],
   "source": []
  }
 ],
 "metadata": {
  "kernelspec": {
   "display_name": "Python 3.10.6 64-bit ('future_proofing_cities')",
   "language": "python",
   "name": "python3"
  },
  "language_info": {
   "codemirror_mode": {
    "name": "ipython",
    "version": 3
   },
   "file_extension": ".py",
   "mimetype": "text/x-python",
   "name": "python",
   "nbconvert_exporter": "python",
   "pygments_lexer": "ipython3",
   "version": "3.10.6"
  },
  "orig_nbformat": 4,
  "vscode": {
   "interpreter": {
    "hash": "0074166b104725c523b8868ab41b8fc8117b4c3f934723be5b4b5a4e23a08e07"
   }
  }
 },
 "nbformat": 4,
 "nbformat_minor": 2
}
